{
 "cells": [
  {
   "cell_type": "code",
   "execution_count": 417,
   "id": "initial_id",
   "metadata": {
    "collapsed": true,
    "ExecuteTime": {
     "end_time": "2024-03-24T16:50:57.494039Z",
     "start_time": "2024-03-24T16:50:57.460263Z"
    }
   },
   "outputs": [],
   "source": [
    "import requests "
   ]
  },
  {
   "cell_type": "code",
   "outputs": [],
   "source": [
    "standings_url =  \"https://fbref.com/en/comps/9/Premier-League-Stats\""
   ],
   "metadata": {
    "collapsed": false,
    "ExecuteTime": {
     "end_time": "2024-03-24T16:50:57.496229Z",
     "start_time": "2024-03-24T16:50:57.476111Z"
    }
   },
   "id": "ebac3cad76a9e662",
   "execution_count": 418
  },
  {
   "cell_type": "code",
   "outputs": [],
   "source": [
    "# Download the HTML of the page \n",
    "data = requests.get(standings_url)"
   ],
   "metadata": {
    "collapsed": false,
    "ExecuteTime": {
     "end_time": "2024-03-24T16:50:58.276966Z",
     "start_time": "2024-03-24T16:50:57.499279Z"
    }
   },
   "id": "68351fdbcf699199",
   "execution_count": 419
  },
  {
   "cell_type": "code",
   "outputs": [],
   "source": [
    "# Parsing HTML using Library BeautifullSoup \n",
    "from bs4 import BeautifulSoup "
   ],
   "metadata": {
    "collapsed": false,
    "ExecuteTime": {
     "end_time": "2024-03-24T16:50:58.283360Z",
     "start_time": "2024-03-24T16:50:58.277407Z"
    }
   },
   "id": "2d4fefcf966030f7",
   "execution_count": 420
  },
  {
   "cell_type": "code",
   "outputs": [],
   "source": [
    "soup = BeautifulSoup(data.text)"
   ],
   "metadata": {
    "collapsed": false,
    "ExecuteTime": {
     "end_time": "2024-03-24T16:50:59.011618Z",
     "start_time": "2024-03-24T16:50:58.282268Z"
    }
   },
   "id": "95dada3bc380c037",
   "execution_count": 421
  },
  {
   "cell_type": "code",
   "outputs": [
    {
     "data": {
      "text/plain": "<table class=\"stats_table sortable min_width force_mobilize\" data-cols-to-freeze=\",2\" id=\"results2023-202491_overall\"> <caption>Regular season Table</caption> <colgroup><col/><col/><col/><col/><col/><col/><col/><col/><col/><col/><col/><col/><col/><col/><col/><col/><col/><col/><col/><col/></colgroup> <thead> <tr> <th aria-label=\"Rank\" class=\"poptip sort_default_asc center\" data-stat=\"rank\" data-tip=\"&lt;strong&gt;Rank&lt;/strong&gt;&lt;br&gt;Squad finish in competition&lt;br&gt;Finish within the league or competition.&lt;br&gt;For knockout competitions may show final round reached.&lt;br&gt;Colors and arrows represent promotion/relegation or qualifiation for continental cups.&lt;br&gt;Trophy indicates team won league whether by playoffs or by leading the table.&lt;br&gt;Star indicates topped table in league USING another means of naming champion.\" scope=\"col\">Rk</th> <th aria-label=\"Squad\" class=\"poptip sort_default_asc center\" data-stat=\"team\" scope=\"col\">Squad</th> <th aria-label=\"Matches Played\" class=\"poptip center\" data-stat=\"games\" data-tip=\"&lt;strong&gt;Matches Played&lt;/strong&gt;&lt;br&gt;Matches Played by the player or squad\" scope=\"col\">MP</th> <th aria-label=\"Wins\" class=\"poptip center\" data-stat=\"wins\" data-tip=\"&lt;strong&gt;Wins&lt;/strong&gt;&lt;br&gt;Wins\" scope=\"col\">W</th> <th aria-label=\"Draws\" class=\"poptip center\" data-stat=\"ties\" data-tip=\"&lt;strong&gt;Draws&lt;/strong&gt;&lt;br&gt;Draws\" scope=\"col\">D</th> <th aria-label=\"Losses\" class=\"poptip center\" data-stat=\"losses\" data-tip=\"&lt;strong&gt;Losses&lt;/strong&gt;&lt;br&gt;Losses\" scope=\"col\">L</th> <th aria-label=\"Goals For\" class=\"poptip center\" data-stat=\"goals_for\" data-tip=\"&lt;strong&gt;Goals For&lt;/strong&gt;&lt;br&gt;Goals For\" scope=\"col\">GF</th> <th aria-label=\"Goals Against\" class=\"poptip center\" data-stat=\"goals_against\" data-tip=\"&lt;strong&gt;Goals Against&lt;/strong&gt;&lt;br&gt;Goals Against\" scope=\"col\">GA</th> <th aria-label=\"Goal Difference\" class=\"poptip center\" data-stat=\"goal_diff\" data-tip=\"&lt;strong&gt;Goal Difference&lt;/strong&gt;&lt;br&gt;Goal Difference\" scope=\"col\">GD</th> <th aria-label=\"Points\" class=\"poptip center\" data-stat=\"points\" data-tip=\"&lt;strong&gt;Points&lt;/strong&gt;&lt;br&gt;Most leagues are ordered by points.&lt;br&gt;Three for a win and one for a draw.\" scope=\"col\">Pts</th> <th aria-label=\"Points/Match\" class=\"poptip center\" data-stat=\"points_avg\" data-tip=\"&lt;strong&gt;Points/Match&lt;/strong&gt;&lt;br&gt;Points per Match Played\" scope=\"col\">Pts/MP</th> <th aria-label=\"xG\" class=\"poptip center\" data-filter=\"1\" data-name=\"xG\" data-stat=\"xg_for\" data-tip=\"&lt;strong&gt;Expected Goals&lt;/strong&gt;&lt;br&gt;xG totals include penalty kicks, but do not include penalty shootouts (unless otherwise noted).&lt;br&gt;Provided by Opta.&lt;br&gt;An underline indicates there is a match that is missing data, but will be updated when available.\" scope=\"col\">xG</th> <th aria-label=\"xG Allowed\" class=\"poptip sort_default_asc center\" data-stat=\"xg_against\" data-tip=\"&lt;strong&gt;xG Allowed&lt;/strong&gt;&lt;br&gt;&lt;strong&gt;Expected Goals Allowed&lt;/strong&gt;&lt;br&gt;xG totals include penalty kicks, but do not include penalty shootouts (unless otherwise noted).&lt;br&gt;Provided by Opta.&lt;br&gt;An underline indicates there is a match that is missing data, but will be updated when available.\" scope=\"col\">xGA</th> <th aria-label=\"xG Difference\" class=\"poptip center\" data-filter=\"1\" data-name=\"xG Difference\" data-stat=\"xg_diff\" data-tip=\"&lt;strong&gt;xG Difference&lt;/strong&gt;&lt;br&gt;&lt;strong&gt;Expected Goals Difference&lt;/strong&gt;&lt;br&gt;xG totals include penalty kicks, but do not include penalty shootouts (unless otherwise noted).&lt;br&gt;Provided by Opta.&lt;br&gt;An underline indicates there is a match that is missing data, but will be updated when available.\" scope=\"col\">xGD</th> <th aria-label=\"xG Difference/90\" class=\"poptip hide_non_quals center\" data-stat=\"xg_diff_per90\" data-tip=\"&lt;strong&gt;xG Difference/90&lt;/strong&gt;&lt;br&gt;&lt;strong&gt;Expected Goals Difference per 90 Minutes&lt;/strong&gt;&lt;br&gt;xG totals include penalty kicks, but do not include penalty shootouts (unless otherwise noted).&lt;br&gt;Provided by Opta.&lt;br&gt;An underline indicates there is a match that is missing data, but will be updated when available.\" scope=\"col\">xGD/90</th> <th aria-label=\"Last 5\" class=\"poptip center\" data-stat=\"last_5\" data-tip=\"Last Five Matches&lt;br&gt;Matches are ordered chronologically from left-to-right\" scope=\"col\">Last 5</th> <th aria-label=\"Attendance/Game\" class=\"poptip center\" data-stat=\"attendance_per_g\" data-tip=\"&lt;strong&gt;Attendance/Game&lt;/strong&gt;&lt;br&gt;Attendance per game during this season, only for home matches\" scope=\"col\">Attendance</th> <th aria-label=\"Top Team Scorer\" class=\"poptip center\" data-stat=\"top_team_scorers\" data-tip=\"Only includes league matches for that season\" scope=\"col\">Top Team Scorer</th> <th aria-label=\"Goalkeeper\" class=\"poptip center\" data-stat=\"top_keeper\" data-tip=\"Goalkeeper with the most minutes in league play\" scope=\"col\">Goalkeeper</th> <th aria-label=\"Notes\" class=\"poptip center\" data-stat=\"notes\" scope=\"col\">Notes</th> </tr> </thead> <tbody> <tr><th class=\"right qualifier1 qualification_indicator\" csk=\"1\" data-stat=\"rank\" scope=\"row\">1</th><td class=\"left\" data-stat=\"team\"><img alt=\"Club Crest\" height=\"13\" itemscope=\"image\" src=\"https://cdn.ssref.net/req/202403142/tlogo/fb/mini.18bb7c10.png\" style=\"vertical-align:text-top\" width=\"13\"/> <a href=\"/en/squads/18bb7c10/Arsenal-Stats\">Arsenal</a></td><td class=\"right\" data-stat=\"games\">28</td><td class=\"right\" data-stat=\"wins\">20</td><td class=\"right\" data-stat=\"ties\">4</td><td class=\"right\" data-stat=\"losses\">4</td><td class=\"right\" data-stat=\"goals_for\">70</td><td class=\"right\" data-stat=\"goals_against\">24</td><td class=\"right\" data-stat=\"goal_diff\">+46</td><td class=\"right\" data-stat=\"points\">64</td><td class=\"right\" data-stat=\"points_avg\">2.29</td><td class=\"right\" data-stat=\"xg_for\">56.6</td><td class=\"right\" data-stat=\"xg_against\">19.4</td><td class=\"right\" data-stat=\"xg_diff\">+37.2</td><td class=\"right\" data-stat=\"xg_diff_per90\">+1.33</td><td class=\"left\" csk=\"15\" data-stat=\"last_5\"><div style=\"display:inline-block\"><div class=\"poptip\" style=\"display:inline-block; border-radius:2px; background-color:green; width:15px; text-align:center\" tip=\"&lt;strong&gt;February 11, 2024&lt;/strong&gt;&lt;br&gt;West Ham 0–6 Arsenal\"><a href=\"/en/matches/a1da23dc/West-Ham-United-Arsenal-February-11-2024-Premier-League\" style=\"color:#fff; text-decoration:none; background-color: transparent\">W</a></div> <div class=\"poptip\" style=\"display:inline-block; border-radius:2px; background-color:green; width:15px; text-align:center\" tip=\"&lt;strong&gt;February 17, 2024&lt;/strong&gt;&lt;br&gt;Burnley 0–5 Arsenal\"><a href=\"/en/matches/59631171/Burnley-Arsenal-February-17-2024-Premier-League\" style=\"color:#fff; text-decoration:none; background-color: transparent\">W</a></div> <div class=\"poptip\" style=\"display:inline-block; border-radius:2px; background-color:green; width:15px; text-align:center\" tip=\"&lt;strong&gt;February 24, 2024&lt;/strong&gt;&lt;br&gt;Arsenal 4–1 Newcastle Utd\"><a href=\"/en/matches/8f922133/Arsenal-Newcastle-United-February-24-2024-Premier-League\" style=\"color:#fff; text-decoration:none; background-color: transparent\">W</a></div> <div class=\"poptip\" style=\"display:inline-block; border-radius:2px; background-color:green; width:15px; text-align:center\" tip=\"&lt;strong&gt;March 4, 2024&lt;/strong&gt;&lt;br&gt;Sheffield Utd 0–6 Arsenal\"><a href=\"/en/matches/2eca8900/Sheffield-United-Arsenal-March-4-2024-Premier-League\" style=\"color:#fff; text-decoration:none; background-color: transparent\">W</a></div> <div class=\"poptip\" style=\"display:inline-block; border-radius:2px; background-color:green; width:15px; text-align:center\" tip=\"&lt;strong&gt;March 9, 2024&lt;/strong&gt;&lt;br&gt;Arsenal 2–1 Brentford\"><a href=\"/en/matches/0e9002ec/Arsenal-Brentford-March-9-2024-Premier-League\" style=\"color:#fff; text-decoration:none; background-color: transparent\">W</a></div></div></td><td class=\"right\" csk=\"60213\" data-stat=\"attendance_per_g\">60,213</td><td class=\"right\" csk=\"13\" data-stat=\"top_team_scorers\"><a href=\"/en/players/bc7dc64d/Bukayo-Saka\">Bukayo Saka</a> - <span>13</span></td><td class=\"right\" data-stat=\"top_keeper\"><a href=\"/en/players/98ea5115/David-Raya\">David Raya</a></td><td class=\"left iz\" data-stat=\"notes\"></td></tr> <tr><th class=\"right qualifier1 qualification_indicator\" csk=\"2\" data-stat=\"rank\" scope=\"row\">2</th><td class=\"left\" data-stat=\"team\"><img alt=\"Club Crest\" height=\"13\" itemscope=\"image\" src=\"https://cdn.ssref.net/req/202403142/tlogo/fb/mini.822bd0ba.png\" style=\"vertical-align:text-top\" width=\"13\"/> <a href=\"/en/squads/822bd0ba/Liverpool-Stats\">Liverpool</a></td><td class=\"right\" data-stat=\"games\">28</td><td class=\"right\" data-stat=\"wins\">19</td><td class=\"right\" data-stat=\"ties\">7</td><td class=\"right\" data-stat=\"losses\">2</td><td class=\"right\" data-stat=\"goals_for\">65</td><td class=\"right\" data-stat=\"goals_against\">26</td><td class=\"right\" data-stat=\"goal_diff\">+39</td><td class=\"right\" data-stat=\"points\">64</td><td class=\"right\" data-stat=\"points_avg\">2.29</td><td class=\"right\" data-stat=\"xg_for\">62.6</td><td class=\"right\" data-stat=\"xg_against\">34.5</td><td class=\"right\" data-stat=\"xg_diff\">+28.1</td><td class=\"right\" data-stat=\"xg_diff_per90\">+1.00</td><td class=\"left\" csk=\"13\" data-stat=\"last_5\"><div style=\"display:inline-block\"><div class=\"poptip\" style=\"display:inline-block; border-radius:2px; background-color:green; width:15px; text-align:center\" tip=\"&lt;strong&gt;February 10, 2024&lt;/strong&gt;&lt;br&gt;Liverpool 3–1 Burnley\"><a href=\"/en/matches/29e4d6ac/Liverpool-Burnley-February-10-2024-Premier-League\" style=\"color:#fff; text-decoration:none; background-color: transparent\">W</a></div> <div class=\"poptip\" style=\"display:inline-block; border-radius:2px; background-color:green; width:15px; text-align:center\" tip=\"&lt;strong&gt;February 17, 2024&lt;/strong&gt;&lt;br&gt;Brentford 1–4 Liverpool\"><a href=\"/en/matches/ca1e26a0/Brentford-Liverpool-February-17-2024-Premier-League\" style=\"color:#fff; text-decoration:none; background-color: transparent\">W</a></div> <div class=\"poptip\" style=\"display:inline-block; border-radius:2px; background-color:green; width:15px; text-align:center\" tip=\"&lt;strong&gt;February 21, 2024&lt;/strong&gt;&lt;br&gt;Liverpool 4–1 Luton Town\"><a href=\"/en/matches/58636a1e/Liverpool-Luton-Town-February-21-2024-Premier-League\" style=\"color:#fff; text-decoration:none; background-color: transparent\">W</a></div> <div class=\"poptip\" style=\"display:inline-block; border-radius:2px; background-color:green; width:15px; text-align:center\" tip=\"&lt;strong&gt;March 2, 2024&lt;/strong&gt;&lt;br&gt;Nott'ham Forest 0–1 Liverpool\"><a href=\"/en/matches/d1a00cf0/Nottingham-Forest-Liverpool-March-2-2024-Premier-League\" style=\"color:#fff; text-decoration:none; background-color: transparent\">W</a></div> <div class=\"poptip\" style=\"display:inline-block; border-radius:2px; background-color:#888; width:15px; text-align:center\" tip=\"&lt;strong&gt;March 10, 2024&lt;/strong&gt;&lt;br&gt;Liverpool 1–1 Manchester City\"><a href=\"/en/matches/96da3e29/Liverpool-Manchester-City-March-10-2024-Premier-League\" style=\"color:#fff; text-decoration:none; background-color: transparent\">D</a></div></div></td><td class=\"right\" csk=\"54519\" data-stat=\"attendance_per_g\">54,519</td><td class=\"right\" csk=\"15\" data-stat=\"top_team_scorers\"><a href=\"/en/players/e342ad68/Mohamed-Salah\">Mohamed Salah</a> - <span>15</span></td><td class=\"right\" data-stat=\"top_keeper\"><a href=\"/en/players/7a2e46a8/Alisson\">Alisson</a></td><td class=\"left iz\" data-stat=\"notes\"></td></tr> <tr><th class=\"right qualifier1 qualification_indicator\" csk=\"3\" data-stat=\"rank\" scope=\"row\">3</th><td class=\"left\" data-stat=\"team\"><img alt=\"Club Crest\" height=\"13\" itemscope=\"image\" src=\"https://cdn.ssref.net/req/202403142/tlogo/fb/mini.b8fd03ef.png\" style=\"vertical-align:text-top\" width=\"13\"/> <a href=\"/en/squads/b8fd03ef/Manchester-City-Stats\">Manchester City</a></td><td class=\"right\" data-stat=\"games\">28</td><td class=\"right\" data-stat=\"wins\">19</td><td class=\"right\" data-stat=\"ties\">6</td><td class=\"right\" data-stat=\"losses\">3</td><td class=\"right\" data-stat=\"goals_for\">63</td><td class=\"right\" data-stat=\"goals_against\">28</td><td class=\"right\" data-stat=\"goal_diff\">+35</td><td class=\"right\" data-stat=\"points\">63</td><td class=\"right\" data-stat=\"points_avg\">2.25</td><td class=\"right\" data-stat=\"xg_for\">56.6</td><td class=\"right\" data-stat=\"xg_against\">27.6</td><td class=\"right\" data-stat=\"xg_diff\">+29.0</td><td class=\"right\" data-stat=\"xg_diff_per90\">+1.04</td><td class=\"left\" csk=\"11\" data-stat=\"last_5\"><div style=\"display:inline-block\"><div class=\"poptip\" style=\"display:inline-block; border-radius:2px; background-color:#888; width:15px; text-align:center\" tip=\"&lt;strong&gt;February 17, 2024&lt;/strong&gt;&lt;br&gt;Manchester City 1–1 Chelsea\"><a href=\"/en/matches/78fb7fc2/Manchester-City-Chelsea-February-17-2024-Premier-League\" style=\"color:#fff; text-decoration:none; background-color: transparent\">D</a></div> <div class=\"poptip\" style=\"display:inline-block; border-radius:2px; background-color:green; width:15px; text-align:center\" tip=\"&lt;strong&gt;February 20, 2024&lt;/strong&gt;&lt;br&gt;Manchester City 1–0 Brentford\"><a href=\"/en/matches/af88a1aa/Manchester-City-Brentford-February-20-2024-Premier-League\" style=\"color:#fff; text-decoration:none; background-color: transparent\">W</a></div> <div class=\"poptip\" style=\"display:inline-block; border-radius:2px; background-color:green; width:15px; text-align:center\" tip=\"&lt;strong&gt;February 24, 2024&lt;/strong&gt;&lt;br&gt;Bournemouth 0–1 Manchester City\"><a href=\"/en/matches/f6d6a212/Bournemouth-Manchester-City-February-24-2024-Premier-League\" style=\"color:#fff; text-decoration:none; background-color: transparent\">W</a></div> <div class=\"poptip\" style=\"display:inline-block; border-radius:2px; background-color:green; width:15px; text-align:center\" tip=\"&lt;strong&gt;March 3, 2024&lt;/strong&gt;&lt;br&gt;Manchester City 3–1 Manchester Utd\"><a href=\"/en/matches/615eff06/Manchester-Derby-Manchester-City-Manchester-United-March-3-2024-Premier-League\" style=\"color:#fff; text-decoration:none; background-color: transparent\">W</a></div> <div class=\"poptip\" style=\"display:inline-block; border-radius:2px; background-color:#888; width:15px; text-align:center\" tip=\"&lt;strong&gt;March 10, 2024&lt;/strong&gt;&lt;br&gt;Liverpool 1–1 Manchester City\"><a href=\"/en/matches/96da3e29/Liverpool-Manchester-City-March-10-2024-Premier-League\" style=\"color:#fff; text-decoration:none; background-color: transparent\">D</a></div></div></td><td class=\"right\" csk=\"52996\" data-stat=\"attendance_per_g\">52,996</td><td class=\"right\" csk=\"18\" data-stat=\"top_team_scorers\"><a href=\"/en/players/1f44ac21/Erling-Haaland\">Erling Haaland</a> - <span>18</span></td><td class=\"right\" data-stat=\"top_keeper\"><a href=\"/en/players/3bb7b8b4/Ederson\">Ederson</a></td><td class=\"left iz\" data-stat=\"notes\"></td></tr> <tr><th class=\"right qualifier1 qualification_indicator\" csk=\"4\" data-stat=\"rank\" scope=\"row\">4</th><td class=\"left\" data-stat=\"team\"><img alt=\"Club Crest\" height=\"13\" itemscope=\"image\" src=\"https://cdn.ssref.net/req/202403142/tlogo/fb/mini.8602292d.png\" style=\"vertical-align:text-top\" width=\"13\"/> <a href=\"/en/squads/8602292d/Aston-Villa-Stats\">Aston Villa</a></td><td class=\"right\" data-stat=\"games\">29</td><td class=\"right\" data-stat=\"wins\">17</td><td class=\"right\" data-stat=\"ties\">5</td><td class=\"right\" data-stat=\"losses\">7</td><td class=\"right\" data-stat=\"goals_for\">60</td><td class=\"right\" data-stat=\"goals_against\">42</td><td class=\"right\" data-stat=\"goal_diff\">+18</td><td class=\"right\" data-stat=\"points\">56</td><td class=\"right\" data-stat=\"points_avg\">1.93</td><td class=\"right\" data-stat=\"xg_for\">51.7</td><td class=\"right\" data-stat=\"xg_against\">41.8</td><td class=\"right\" data-stat=\"xg_diff\">+9.8</td><td class=\"right\" data-stat=\"xg_diff_per90\">+0.34</td><td class=\"left\" csk=\"10\" data-stat=\"last_5\"><div style=\"display:inline-block\"><div class=\"poptip\" style=\"display:inline-block; border-radius:2px; background-color:green; width:15px; text-align:center\" tip=\"&lt;strong&gt;February 17, 2024&lt;/strong&gt;&lt;br&gt;Fulham 1–2 Aston Villa\"><a href=\"/en/matches/796ff9f0/Fulham-Aston-Villa-February-17-2024-Premier-League\" style=\"color:#fff; text-decoration:none; background-color: transparent\">W</a></div> <div class=\"poptip\" style=\"display:inline-block; border-radius:2px; background-color:green; width:15px; text-align:center\" tip=\"&lt;strong&gt;February 24, 2024&lt;/strong&gt;&lt;br&gt;Aston Villa 4–2 Nott'ham Forest\"><a href=\"/en/matches/f61fbe36/Aston-Villa-Nottingham-Forest-February-24-2024-Premier-League\" style=\"color:#fff; text-decoration:none; background-color: transparent\">W</a></div> <div class=\"poptip\" style=\"display:inline-block; border-radius:2px; background-color:green; width:15px; text-align:center\" tip=\"&lt;strong&gt;March 2, 2024&lt;/strong&gt;&lt;br&gt;Luton Town 2–3 Aston Villa\"><a href=\"/en/matches/59f4adc0/Luton-Town-Aston-Villa-March-2-2024-Premier-League\" style=\"color:#fff; text-decoration:none; background-color: transparent\">W</a></div> <div class=\"poptip\" style=\"display:inline-block; border-radius:2px; background-color:#e60000; width:15px; text-align:center\" tip=\"&lt;strong&gt;March 10, 2024&lt;/strong&gt;&lt;br&gt;Aston Villa 0–4 Tottenham\"><a href=\"/en/matches/a32a7069/Aston-Villa-Tottenham-Hotspur-March-10-2024-Premier-League\" style=\"color:#fff; text-decoration:none; background-color: transparent\">L</a></div> <div class=\"poptip\" style=\"display:inline-block; border-radius:2px; background-color:#888; width:15px; text-align:center\" tip=\"&lt;strong&gt;March 17, 2024&lt;/strong&gt;&lt;br&gt;West Ham 1–1 Aston Villa\"><a href=\"/en/matches/fc356c59/West-Ham-United-Aston-Villa-March-17-2024-Premier-League\" style=\"color:#fff; text-decoration:none; background-color: transparent\">D</a></div></div></td><td class=\"right\" csk=\"41698\" data-stat=\"attendance_per_g\">41,698</td><td class=\"right\" csk=\"16\" data-stat=\"top_team_scorers\"><a href=\"/en/players/aed3a70f/Ollie-Watkins\">Ollie Watkins</a> - <span>16</span></td><td class=\"right\" data-stat=\"top_keeper\"><a href=\"/en/players/7956236f/Emiliano-Martinez\">Emiliano Martínez</a></td><td class=\"left iz\" data-stat=\"notes\"></td></tr> <tr><th class=\"right qualifier2 qualification_indicator\" csk=\"5\" data-stat=\"rank\" scope=\"row\">5</th><td class=\"left\" data-stat=\"team\"><img alt=\"Club Crest\" height=\"13\" itemscope=\"image\" src=\"https://cdn.ssref.net/req/202403142/tlogo/fb/mini.361ca564.png\" style=\"vertical-align:text-top\" width=\"13\"/> <a href=\"/en/squads/361ca564/Tottenham-Hotspur-Stats\">Tottenham</a></td><td class=\"right\" data-stat=\"games\">28</td><td class=\"right\" data-stat=\"wins\">16</td><td class=\"right\" data-stat=\"ties\">5</td><td class=\"right\" data-stat=\"losses\">7</td><td class=\"right\" data-stat=\"goals_for\">59</td><td class=\"right\" data-stat=\"goals_against\">42</td><td class=\"right\" data-stat=\"goal_diff\">+17</td><td class=\"right\" data-stat=\"points\">53</td><td class=\"right\" data-stat=\"points_avg\">1.89</td><td class=\"right\" data-stat=\"xg_for\">49.4</td><td class=\"right\" data-stat=\"xg_against\">46.4</td><td class=\"right\" data-stat=\"xg_diff\">+2.9</td><td class=\"right\" data-stat=\"xg_diff_per90\">+0.10</td><td class=\"left\" csk=\"9\" data-stat=\"last_5\"><div style=\"display:inline-block\"><div class=\"poptip\" style=\"display:inline-block; border-radius:2px; background-color:green; width:15px; text-align:center\" tip=\"&lt;strong&gt;February 10, 2024&lt;/strong&gt;&lt;br&gt;Tottenham 2–1 Brighton\"><a href=\"/en/matches/c0dfccdf/Tottenham-Hotspur-Brighton-and-Hove-Albion-February-10-2024-Premier-League\" style=\"color:#fff; text-decoration:none; background-color: transparent\">W</a></div> <div class=\"poptip\" style=\"display:inline-block; border-radius:2px; background-color:#e60000; width:15px; text-align:center\" tip=\"&lt;strong&gt;February 17, 2024&lt;/strong&gt;&lt;br&gt;Tottenham 1–2 Wolves\"><a href=\"/en/matches/30193251/Tottenham-Hotspur-Wolverhampton-Wanderers-February-17-2024-Premier-League\" style=\"color:#fff; text-decoration:none; background-color: transparent\">L</a></div> <div class=\"poptip\" style=\"display:inline-block; border-radius:2px; background-color:green; width:15px; text-align:center\" tip=\"&lt;strong&gt;March 2, 2024&lt;/strong&gt;&lt;br&gt;Tottenham 3–1 Crystal Palace\"><a href=\"/en/matches/8812bfd9/Tottenham-Hotspur-Crystal-Palace-March-2-2024-Premier-League\" style=\"color:#fff; text-decoration:none; background-color: transparent\">W</a></div> <div class=\"poptip\" style=\"display:inline-block; border-radius:2px; background-color:green; width:15px; text-align:center\" tip=\"&lt;strong&gt;March 10, 2024&lt;/strong&gt;&lt;br&gt;Aston Villa 0–4 Tottenham\"><a href=\"/en/matches/a32a7069/Aston-Villa-Tottenham-Hotspur-March-10-2024-Premier-League\" style=\"color:#fff; text-decoration:none; background-color: transparent\">W</a></div> <div class=\"poptip\" style=\"display:inline-block; border-radius:2px; background-color:#e60000; width:15px; text-align:center\" tip=\"&lt;strong&gt;March 16, 2024&lt;/strong&gt;&lt;br&gt;Fulham 3–0 Tottenham\"><a href=\"/en/matches/8a009cc4/Fulham-Tottenham-Hotspur-March-16-2024-Premier-League\" style=\"color:#fff; text-decoration:none; background-color: transparent\">L</a></div></div></td><td class=\"right\" csk=\"61555\" data-stat=\"attendance_per_g\">61,555</td><td class=\"right\" csk=\"14\" data-stat=\"top_team_scorers\"><a href=\"/en/players/92e7e919/Son-Heung-min\">Son Heung-min</a> - <span>14</span></td><td class=\"right\" data-stat=\"top_keeper\"><a href=\"/en/players/77d6fd4d/Guglielmo-Vicario\">Guglielmo Vicario</a></td><td class=\"left iz\" data-stat=\"notes\"></td></tr> <tr><th class=\"right\" csk=\"6\" data-stat=\"rank\" scope=\"row\">6</th><td class=\"left\" data-stat=\"team\"><img alt=\"Club Crest\" height=\"13\" itemscope=\"image\" src=\"https://cdn.ssref.net/req/202403142/tlogo/fb/mini.19538871.png\" style=\"vertical-align:text-top\" width=\"13\"/> <a href=\"/en/squads/19538871/Manchester-United-Stats\">Manchester Utd</a></td><td class=\"right\" data-stat=\"games\">28</td><td class=\"right\" data-stat=\"wins\">15</td><td class=\"right\" data-stat=\"ties\">2</td><td class=\"right\" data-stat=\"losses\">11</td><td class=\"right\" data-stat=\"goals_for\">39</td><td class=\"right\" data-stat=\"goals_against\">39</td><td class=\"right iz\" data-stat=\"goal_diff\">0</td><td class=\"right\" data-stat=\"points\">47</td><td class=\"right\" data-stat=\"points_avg\">1.68</td><td class=\"right\" data-stat=\"xg_for\">43.3</td><td class=\"right\" data-stat=\"xg_against\">47.4</td><td class=\"right\" data-stat=\"xg_diff\">-4.2</td><td class=\"right\" data-stat=\"xg_diff_per90\">-0.15</td><td class=\"left\" csk=\"9\" data-stat=\"last_5\"><div style=\"display:inline-block\"><div class=\"poptip\" style=\"display:inline-block; border-radius:2px; background-color:green; width:15px; text-align:center\" tip=\"&lt;strong&gt;February 11, 2024&lt;/strong&gt;&lt;br&gt;Aston Villa 1–2 Manchester Utd\"><a href=\"/en/matches/fd36479b/Aston-Villa-Manchester-United-February-11-2024-Premier-League\" style=\"color:#fff; text-decoration:none; background-color: transparent\">W</a></div> <div class=\"poptip\" style=\"display:inline-block; border-radius:2px; background-color:green; width:15px; text-align:center\" tip=\"&lt;strong&gt;February 18, 2024&lt;/strong&gt;&lt;br&gt;Luton Town 1–2 Manchester Utd\"><a href=\"/en/matches/49523b04/Luton-Town-Manchester-United-February-18-2024-Premier-League\" style=\"color:#fff; text-decoration:none; background-color: transparent\">W</a></div> <div class=\"poptip\" style=\"display:inline-block; border-radius:2px; background-color:#e60000; width:15px; text-align:center\" tip=\"&lt;strong&gt;February 24, 2024&lt;/strong&gt;&lt;br&gt;Manchester Utd 1–2 Fulham\"><a href=\"/en/matches/45f67948/Manchester-United-Fulham-February-24-2024-Premier-League\" style=\"color:#fff; text-decoration:none; background-color: transparent\">L</a></div> <div class=\"poptip\" style=\"display:inline-block; border-radius:2px; background-color:#e60000; width:15px; text-align:center\" tip=\"&lt;strong&gt;March 3, 2024&lt;/strong&gt;&lt;br&gt;Manchester City 3–1 Manchester Utd\"><a href=\"/en/matches/615eff06/Manchester-Derby-Manchester-City-Manchester-United-March-3-2024-Premier-League\" style=\"color:#fff; text-decoration:none; background-color: transparent\">L</a></div> <div class=\"poptip\" style=\"display:inline-block; border-radius:2px; background-color:green; width:15px; text-align:center\" tip=\"&lt;strong&gt;March 9, 2024&lt;/strong&gt;&lt;br&gt;Manchester Utd 2–0 Everton\"><a href=\"/en/matches/fede7f6e/Manchester-United-Everton-March-9-2024-Premier-League\" style=\"color:#fff; text-decoration:none; background-color: transparent\">W</a></div></div></td><td class=\"right\" csk=\"73523\" data-stat=\"attendance_per_g\">73,523</td><td class=\"right\" csk=\"7\" data-stat=\"top_team_scorers\"><a href=\"/en/players/a1d5bd30/Marcus-Rashford\">Marcus Rashford</a>, <a href=\"/en/players/d93c2511/Scott-McTominay\">Scott McTominay</a>... - <span>7</span></td><td class=\"right\" data-stat=\"top_keeper\"><a href=\"/en/players/e9c0c1b2/Andre-Onana\">André Onana</a></td><td class=\"left iz\" data-stat=\"notes\"></td></tr> <tr><th class=\"right\" csk=\"7\" data-stat=\"rank\" scope=\"row\">7</th><td class=\"left\" data-stat=\"team\"><img alt=\"Club Crest\" height=\"13\" itemscope=\"image\" src=\"https://cdn.ssref.net/req/202403142/tlogo/fb/mini.7c21e445.png\" style=\"vertical-align:text-top\" width=\"13\"/> <a href=\"/en/squads/7c21e445/West-Ham-United-Stats\">West Ham</a></td><td class=\"right\" data-stat=\"games\">29</td><td class=\"right\" data-stat=\"wins\">12</td><td class=\"right\" data-stat=\"ties\">8</td><td class=\"right\" data-stat=\"losses\">9</td><td class=\"right\" data-stat=\"goals_for\">46</td><td class=\"right\" data-stat=\"goals_against\">50</td><td class=\"right\" data-stat=\"goal_diff\">-4</td><td class=\"right\" data-stat=\"points\">44</td><td class=\"right\" data-stat=\"points_avg\">1.52</td><td class=\"right\" data-stat=\"xg_for\">41.0</td><td class=\"right\" data-stat=\"xg_against\">51.0</td><td class=\"right\" data-stat=\"xg_diff\">-10.0</td><td class=\"right\" data-stat=\"xg_diff_per90\">-0.34</td><td class=\"left\" csk=\"8\" data-stat=\"last_5\"><div style=\"display:inline-block\"><div class=\"poptip\" style=\"display:inline-block; border-radius:2px; background-color:#e60000; width:15px; text-align:center\" tip=\"&lt;strong&gt;February 17, 2024&lt;/strong&gt;&lt;br&gt;Nott'ham Forest 2–0 West Ham\"><a href=\"/en/matches/d657db47/Nottingham-Forest-West-Ham-United-February-17-2024-Premier-League\" style=\"color:#fff; text-decoration:none; background-color: transparent\">L</a></div> <div class=\"poptip\" style=\"display:inline-block; border-radius:2px; background-color:green; width:15px; text-align:center\" tip=\"&lt;strong&gt;February 26, 2024&lt;/strong&gt;&lt;br&gt;West Ham 4–2 Brentford\"><a href=\"/en/matches/15a04102/West-Ham-United-Brentford-February-26-2024-Premier-League\" style=\"color:#fff; text-decoration:none; background-color: transparent\">W</a></div> <div class=\"poptip\" style=\"display:inline-block; border-radius:2px; background-color:green; width:15px; text-align:center\" tip=\"&lt;strong&gt;March 2, 2024&lt;/strong&gt;&lt;br&gt;Everton 1–3 West Ham\"><a href=\"/en/matches/e9183936/Everton-West-Ham-United-March-2-2024-Premier-League\" style=\"color:#fff; text-decoration:none; background-color: transparent\">W</a></div> <div class=\"poptip\" style=\"display:inline-block; border-radius:2px; background-color:#888; width:15px; text-align:center\" tip=\"&lt;strong&gt;March 10, 2024&lt;/strong&gt;&lt;br&gt;West Ham 2–2 Burnley\"><a href=\"/en/matches/9ef133d6/West-Ham-United-Burnley-March-10-2024-Premier-League\" style=\"color:#fff; text-decoration:none; background-color: transparent\">D</a></div> <div class=\"poptip\" style=\"display:inline-block; border-radius:2px; background-color:#888; width:15px; text-align:center\" tip=\"&lt;strong&gt;March 17, 2024&lt;/strong&gt;&lt;br&gt;West Ham 1–1 Aston Villa\"><a href=\"/en/matches/fc356c59/West-Ham-United-Aston-Villa-March-17-2024-Premier-League\" style=\"color:#fff; text-decoration:none; background-color: transparent\">D</a></div></div></td><td class=\"right\" csk=\"62594\" data-stat=\"attendance_per_g\">62,594</td><td class=\"right\" csk=\"14\" data-stat=\"top_team_scorers\"><a href=\"/en/players/79c84d1c/Jarrod-Bowen\">Jarrod Bowen</a> - <span>14</span></td><td class=\"right\" data-stat=\"top_keeper\"><a href=\"/en/players/2f965a72/Alphonse-Areola\">Alphonse Areola</a></td><td class=\"left iz\" data-stat=\"notes\"></td></tr> <tr><th class=\"right\" csk=\"8\" data-stat=\"rank\" scope=\"row\">8</th><td class=\"left\" data-stat=\"team\"><img alt=\"Club Crest\" height=\"13\" itemscope=\"image\" src=\"https://cdn.ssref.net/req/202403142/tlogo/fb/mini.d07537b9.png\" style=\"vertical-align:text-top\" width=\"13\"/> <a href=\"/en/squads/d07537b9/Brighton-and-Hove-Albion-Stats\">Brighton</a></td><td class=\"right\" data-stat=\"games\">28</td><td class=\"right\" data-stat=\"wins\">11</td><td class=\"right\" data-stat=\"ties\">9</td><td class=\"right\" data-stat=\"losses\">8</td><td class=\"right\" data-stat=\"goals_for\">50</td><td class=\"right\" data-stat=\"goals_against\">44</td><td class=\"right\" data-stat=\"goal_diff\">+6</td><td class=\"right\" data-stat=\"points\">42</td><td class=\"right\" data-stat=\"points_avg\">1.50</td><td class=\"right\" data-stat=\"xg_for\">45.5</td><td class=\"right\" data-stat=\"xg_against\">38.7</td><td class=\"right\" data-stat=\"xg_diff\">+6.8</td><td class=\"right\" data-stat=\"xg_diff_per90\">+0.24</td><td class=\"left\" csk=\"7\" data-stat=\"last_5\"><div style=\"display:inline-block\"><div class=\"poptip\" style=\"display:inline-block; border-radius:2px; background-color:#e60000; width:15px; text-align:center\" tip=\"&lt;strong&gt;February 10, 2024&lt;/strong&gt;&lt;br&gt;Tottenham 2–1 Brighton\"><a href=\"/en/matches/c0dfccdf/Tottenham-Hotspur-Brighton-and-Hove-Albion-February-10-2024-Premier-League\" style=\"color:#fff; text-decoration:none; background-color: transparent\">L</a></div> <div class=\"poptip\" style=\"display:inline-block; border-radius:2px; background-color:green; width:15px; text-align:center\" tip=\"&lt;strong&gt;February 18, 2024&lt;/strong&gt;&lt;br&gt;Sheffield Utd 0–5 Brighton\"><a href=\"/en/matches/811fa03f/Sheffield-United-Brighton-and-Hove-Albion-February-18-2024-Premier-League\" style=\"color:#fff; text-decoration:none; background-color: transparent\">W</a></div> <div class=\"poptip\" style=\"display:inline-block; border-radius:2px; background-color:#888; width:15px; text-align:center\" tip=\"&lt;strong&gt;February 24, 2024&lt;/strong&gt;&lt;br&gt;Brighton 1–1 Everton\"><a href=\"/en/matches/eb7c6993/Brighton-and-Hove-Albion-Everton-February-24-2024-Premier-League\" style=\"color:#fff; text-decoration:none; background-color: transparent\">D</a></div> <div class=\"poptip\" style=\"display:inline-block; border-radius:2px; background-color:#e60000; width:15px; text-align:center\" tip=\"&lt;strong&gt;March 2, 2024&lt;/strong&gt;&lt;br&gt;Fulham 3–0 Brighton\"><a href=\"/en/matches/20278247/Fulham-Brighton-and-Hove-Albion-March-2-2024-Premier-League\" style=\"color:#fff; text-decoration:none; background-color: transparent\">L</a></div> <div class=\"poptip\" style=\"display:inline-block; border-radius:2px; background-color:green; width:15px; text-align:center\" tip=\"&lt;strong&gt;March 10, 2024&lt;/strong&gt;&lt;br&gt;Brighton 1–0 Nott'ham Forest\"><a href=\"/en/matches/f17d9ccd/Brighton-and-Hove-Albion-Nottingham-Forest-March-10-2024-Premier-League\" style=\"color:#fff; text-decoration:none; background-color: transparent\">W</a></div></div></td><td class=\"right\" csk=\"33003\" data-stat=\"attendance_per_g\">33,003</td><td class=\"right\" csk=\"8\" data-stat=\"top_team_scorers\"><a href=\"/en/players/e8832875/Joao-Pedro\">João Pedro</a> - <span>8</span></td><td class=\"right\" data-stat=\"top_keeper\"><a href=\"/en/players/28300a16/Jason-Steele\">Jason Steele</a></td><td class=\"left iz\" data-stat=\"notes\"></td></tr> <tr><th class=\"right\" csk=\"9\" data-stat=\"rank\" scope=\"row\">9</th><td class=\"left\" data-stat=\"team\"><img alt=\"Club Crest\" height=\"13\" itemscope=\"image\" src=\"https://cdn.ssref.net/req/202403142/tlogo/fb/mini.8cec06e1.png\" style=\"vertical-align:text-top\" width=\"13\"/> <a href=\"/en/squads/8cec06e1/Wolverhampton-Wanderers-Stats\">Wolves</a></td><td class=\"right\" data-stat=\"games\">28</td><td class=\"right\" data-stat=\"wins\">12</td><td class=\"right\" data-stat=\"ties\">5</td><td class=\"right\" data-stat=\"losses\">11</td><td class=\"right\" data-stat=\"goals_for\">42</td><td class=\"right\" data-stat=\"goals_against\">44</td><td class=\"right\" data-stat=\"goal_diff\">-2</td><td class=\"right\" data-stat=\"points\">41</td><td class=\"right\" data-stat=\"points_avg\">1.46</td><td class=\"right\" data-stat=\"xg_for\">37.6</td><td class=\"right\" data-stat=\"xg_against\">47.9</td><td class=\"right\" data-stat=\"xg_diff\">-10.3</td><td class=\"right\" data-stat=\"xg_diff_per90\">-0.37</td><td class=\"left\" csk=\"9\" data-stat=\"last_5\"><div style=\"display:inline-block\"><div class=\"poptip\" style=\"display:inline-block; border-radius:2px; background-color:#e60000; width:15px; text-align:center\" tip=\"&lt;strong&gt;February 10, 2024&lt;/strong&gt;&lt;br&gt;Wolves 0–2 Brentford\"><a href=\"/en/matches/922cd256/Wolverhampton-Wanderers-Brentford-February-10-2024-Premier-League\" style=\"color:#fff; text-decoration:none; background-color: transparent\">L</a></div> <div class=\"poptip\" style=\"display:inline-block; border-radius:2px; background-color:green; width:15px; text-align:center\" tip=\"&lt;strong&gt;February 17, 2024&lt;/strong&gt;&lt;br&gt;Tottenham 1–2 Wolves\"><a href=\"/en/matches/30193251/Tottenham-Hotspur-Wolverhampton-Wanderers-February-17-2024-Premier-League\" style=\"color:#fff; text-decoration:none; background-color: transparent\">W</a></div> <div class=\"poptip\" style=\"display:inline-block; border-radius:2px; background-color:green; width:15px; text-align:center\" tip=\"&lt;strong&gt;February 25, 2024&lt;/strong&gt;&lt;br&gt;Wolves 1–0 Sheffield Utd\"><a href=\"/en/matches/ada09dda/Wolverhampton-Wanderers-Sheffield-United-February-25-2024-Premier-League\" style=\"color:#fff; text-decoration:none; background-color: transparent\">W</a></div> <div class=\"poptip\" style=\"display:inline-block; border-radius:2px; background-color:#e60000; width:15px; text-align:center\" tip=\"&lt;strong&gt;March 2, 2024&lt;/strong&gt;&lt;br&gt;Newcastle Utd 3–0 Wolves\"><a href=\"/en/matches/bbae8356/Newcastle-United-Wolverhampton-Wanderers-March-2-2024-Premier-League\" style=\"color:#fff; text-decoration:none; background-color: transparent\">L</a></div> <div class=\"poptip\" style=\"display:inline-block; border-radius:2px; background-color:green; width:15px; text-align:center\" tip=\"&lt;strong&gt;March 9, 2024&lt;/strong&gt;&lt;br&gt;Wolves 2–1 Fulham\"><a href=\"/en/matches/b606cbde/Wolverhampton-Wanderers-Fulham-March-9-2024-Premier-League\" style=\"color:#fff; text-decoration:none; background-color: transparent\">W</a></div></div></td><td class=\"right\" csk=\"31280\" data-stat=\"attendance_per_g\">31,280</td><td class=\"right\" csk=\"10\" data-stat=\"top_team_scorers\"><a href=\"/en/players/169fd162/Hwang-Hee-chan\">Hwang Hee-chan</a> - <span>10</span></td><td class=\"right\" data-stat=\"top_keeper\"><a href=\"/en/players/903b6e8b/Jose-Sa\">José Sá</a></td><td class=\"left iz\" data-stat=\"notes\"></td></tr> <tr><th class=\"right\" csk=\"10\" data-stat=\"rank\" scope=\"row\">10</th><td class=\"left\" data-stat=\"team\"><img alt=\"Club Crest\" height=\"13\" itemscope=\"image\" src=\"https://cdn.ssref.net/req/202403142/tlogo/fb/mini.b2b47a98.png\" style=\"vertical-align:text-top\" width=\"13\"/> <a href=\"/en/squads/b2b47a98/Newcastle-United-Stats\">Newcastle Utd</a></td><td class=\"right\" data-stat=\"games\">28</td><td class=\"right\" data-stat=\"wins\">12</td><td class=\"right\" data-stat=\"ties\">4</td><td class=\"right\" data-stat=\"losses\">12</td><td class=\"right\" data-stat=\"goals_for\">59</td><td class=\"right\" data-stat=\"goals_against\">48</td><td class=\"right\" data-stat=\"goal_diff\">+11</td><td class=\"right\" data-stat=\"points\">40</td><td class=\"right\" data-stat=\"points_avg\">1.43</td><td class=\"right\" data-stat=\"xg_for\">51.1</td><td class=\"right\" data-stat=\"xg_against\">49.2</td><td class=\"right\" data-stat=\"xg_diff\">+2.0</td><td class=\"right\" data-stat=\"xg_diff_per90\">+0.07</td><td class=\"left\" csk=\"7\" data-stat=\"last_5\"><div style=\"display:inline-block\"><div class=\"poptip\" style=\"display:inline-block; border-radius:2px; background-color:green; width:15px; text-align:center\" tip=\"&lt;strong&gt;February 10, 2024&lt;/strong&gt;&lt;br&gt;Nott'ham Forest 2–3 Newcastle Utd\"><a href=\"/en/matches/1c53666a/Nottingham-Forest-Newcastle-United-February-10-2024-Premier-League\" style=\"color:#fff; text-decoration:none; background-color: transparent\">W</a></div> <div class=\"poptip\" style=\"display:inline-block; border-radius:2px; background-color:#888; width:15px; text-align:center\" tip=\"&lt;strong&gt;February 17, 2024&lt;/strong&gt;&lt;br&gt;Newcastle Utd 2–2 Bournemouth\"><a href=\"/en/matches/083c4444/Newcastle-United-Bournemouth-February-17-2024-Premier-League\" style=\"color:#fff; text-decoration:none; background-color: transparent\">D</a></div> <div class=\"poptip\" style=\"display:inline-block; border-radius:2px; background-color:#e60000; width:15px; text-align:center\" tip=\"&lt;strong&gt;February 24, 2024&lt;/strong&gt;&lt;br&gt;Arsenal 4–1 Newcastle Utd\"><a href=\"/en/matches/8f922133/Arsenal-Newcastle-United-February-24-2024-Premier-League\" style=\"color:#fff; text-decoration:none; background-color: transparent\">L</a></div> <div class=\"poptip\" style=\"display:inline-block; border-radius:2px; background-color:green; width:15px; text-align:center\" tip=\"&lt;strong&gt;March 2, 2024&lt;/strong&gt;&lt;br&gt;Newcastle Utd 3–0 Wolves\"><a href=\"/en/matches/bbae8356/Newcastle-United-Wolverhampton-Wanderers-March-2-2024-Premier-League\" style=\"color:#fff; text-decoration:none; background-color: transparent\">W</a></div> <div class=\"poptip\" style=\"display:inline-block; border-radius:2px; background-color:#e60000; width:15px; text-align:center\" tip=\"&lt;strong&gt;March 11, 2024&lt;/strong&gt;&lt;br&gt;Chelsea 3–2 Newcastle Utd\"><a href=\"/en/matches/d4b4c06f/Chelsea-Newcastle-United-March-11-2024-Premier-League\" style=\"color:#fff; text-decoration:none; background-color: transparent\">L</a></div></div></td><td class=\"right\" csk=\"52121\" data-stat=\"attendance_per_g\">52,121</td><td class=\"right\" csk=\"12\" data-stat=\"top_team_scorers\"><a href=\"/en/players/8e92be30/Alexander-Isak\">Alexander Isak</a> - <span>12</span></td><td class=\"right\" data-stat=\"top_keeper\"><a href=\"/en/players/4b40d9ca/Nick-Pope\">Nick Pope</a></td><td class=\"left iz\" data-stat=\"notes\"></td></tr> <tr><th class=\"right\" csk=\"11\" data-stat=\"rank\" scope=\"row\">11</th><td class=\"left\" data-stat=\"team\"><img alt=\"Club Crest\" height=\"13\" itemscope=\"image\" src=\"https://cdn.ssref.net/req/202403142/tlogo/fb/mini.cff3d9bb.png\" style=\"vertical-align:text-top\" width=\"13\"/> <a href=\"/en/squads/cff3d9bb/Chelsea-Stats\">Chelsea</a></td><td class=\"right\" data-stat=\"games\">27</td><td class=\"right\" data-stat=\"wins\">11</td><td class=\"right\" data-stat=\"ties\">6</td><td class=\"right\" data-stat=\"losses\">10</td><td class=\"right\" data-stat=\"goals_for\">47</td><td class=\"right\" data-stat=\"goals_against\">45</td><td class=\"right\" data-stat=\"goal_diff\">+2</td><td class=\"right\" data-stat=\"points\">39</td><td class=\"right\" data-stat=\"points_avg\">1.44</td><td class=\"right\" data-stat=\"xg_for\">50.1</td><td class=\"right\" data-stat=\"xg_against\">40.2</td><td class=\"right\" data-stat=\"xg_diff\">+9.8</td><td class=\"right\" data-stat=\"xg_diff_per90\">+0.36</td><td class=\"left\" csk=\"8\" data-stat=\"last_5\"><div style=\"display:inline-block\"><div class=\"poptip\" style=\"display:inline-block; border-radius:2px; background-color:#e60000; width:15px; text-align:center\" tip=\"&lt;strong&gt;February 4, 2024&lt;/strong&gt;&lt;br&gt;Chelsea 2–4 Wolves\"><a href=\"/en/matches/dfde4bd7/Chelsea-Wolverhampton-Wanderers-February-4-2024-Premier-League\" style=\"color:#fff; text-decoration:none; background-color: transparent\">L</a></div> <div class=\"poptip\" style=\"display:inline-block; border-radius:2px; background-color:green; width:15px; text-align:center\" tip=\"&lt;strong&gt;February 12, 2024&lt;/strong&gt;&lt;br&gt;Crystal Palace 1–3 Chelsea\"><a href=\"/en/matches/1206b952/Crystal-Palace-Chelsea-February-12-2024-Premier-League\" style=\"color:#fff; text-decoration:none; background-color: transparent\">W</a></div> <div class=\"poptip\" style=\"display:inline-block; border-radius:2px; background-color:#888; width:15px; text-align:center\" tip=\"&lt;strong&gt;February 17, 2024&lt;/strong&gt;&lt;br&gt;Manchester City 1–1 Chelsea\"><a href=\"/en/matches/78fb7fc2/Manchester-City-Chelsea-February-17-2024-Premier-League\" style=\"color:#fff; text-decoration:none; background-color: transparent\">D</a></div> <div class=\"poptip\" style=\"display:inline-block; border-radius:2px; background-color:#888; width:15px; text-align:center\" tip=\"&lt;strong&gt;March 2, 2024&lt;/strong&gt;&lt;br&gt;Brentford 2–2 Chelsea\"><a href=\"/en/matches/ba1992b0/Brentford-Chelsea-March-2-2024-Premier-League\" style=\"color:#fff; text-decoration:none; background-color: transparent\">D</a></div> <div class=\"poptip\" style=\"display:inline-block; border-radius:2px; background-color:green; width:15px; text-align:center\" tip=\"&lt;strong&gt;March 11, 2024&lt;/strong&gt;&lt;br&gt;Chelsea 3–2 Newcastle Utd\"><a href=\"/en/matches/d4b4c06f/Chelsea-Newcastle-United-March-11-2024-Premier-League\" style=\"color:#fff; text-decoration:none; background-color: transparent\">W</a></div></div></td><td class=\"right\" csk=\"39556\" data-stat=\"attendance_per_g\">39,556</td><td class=\"right\" csk=\"11\" data-stat=\"top_team_scorers\"><a href=\"/en/players/dc7f8a28/Cole-Palmer\">Cole Palmer</a> - <span>11</span></td><td class=\"right\" data-stat=\"top_keeper\"><a href=\"/en/players/6a713852/Robert-Sanchez\">Robert Sánchez</a></td><td class=\"left iz\" data-stat=\"notes\"></td></tr> <tr><th class=\"right\" csk=\"12\" data-stat=\"rank\" scope=\"row\">12</th><td class=\"left\" data-stat=\"team\"><img alt=\"Club Crest\" height=\"13\" itemscope=\"image\" src=\"https://cdn.ssref.net/req/202403142/tlogo/fb/mini.fd962109.png\" style=\"vertical-align:text-top\" width=\"13\"/> <a href=\"/en/squads/fd962109/Fulham-Stats\">Fulham</a></td><td class=\"right\" data-stat=\"games\">29</td><td class=\"right\" data-stat=\"wins\">11</td><td class=\"right\" data-stat=\"ties\">5</td><td class=\"right\" data-stat=\"losses\">13</td><td class=\"right\" data-stat=\"goals_for\">43</td><td class=\"right\" data-stat=\"goals_against\">44</td><td class=\"right\" data-stat=\"goal_diff\">-1</td><td class=\"right\" data-stat=\"points\">38</td><td class=\"right\" data-stat=\"points_avg\">1.31</td><td class=\"right\" data-stat=\"xg_for\">39.2</td><td class=\"right\" data-stat=\"xg_against\">49.8</td><td class=\"right\" data-stat=\"xg_diff\">-10.6</td><td class=\"right\" data-stat=\"xg_diff_per90\">-0.37</td><td class=\"left\" csk=\"9\" data-stat=\"last_5\"><div style=\"display:inline-block\"><div class=\"poptip\" style=\"display:inline-block; border-radius:2px; background-color:#e60000; width:15px; text-align:center\" tip=\"&lt;strong&gt;February 17, 2024&lt;/strong&gt;&lt;br&gt;Fulham 1–2 Aston Villa\"><a href=\"/en/matches/796ff9f0/Fulham-Aston-Villa-February-17-2024-Premier-League\" style=\"color:#fff; text-decoration:none; background-color: transparent\">L</a></div> <div class=\"poptip\" style=\"display:inline-block; border-radius:2px; background-color:green; width:15px; text-align:center\" tip=\"&lt;strong&gt;February 24, 2024&lt;/strong&gt;&lt;br&gt;Manchester Utd 1–2 Fulham\"><a href=\"/en/matches/45f67948/Manchester-United-Fulham-February-24-2024-Premier-League\" style=\"color:#fff; text-decoration:none; background-color: transparent\">W</a></div> <div class=\"poptip\" style=\"display:inline-block; border-radius:2px; background-color:green; width:15px; text-align:center\" tip=\"&lt;strong&gt;March 2, 2024&lt;/strong&gt;&lt;br&gt;Fulham 3–0 Brighton\"><a href=\"/en/matches/20278247/Fulham-Brighton-and-Hove-Albion-March-2-2024-Premier-League\" style=\"color:#fff; text-decoration:none; background-color: transparent\">W</a></div> <div class=\"poptip\" style=\"display:inline-block; border-radius:2px; background-color:#e60000; width:15px; text-align:center\" tip=\"&lt;strong&gt;March 9, 2024&lt;/strong&gt;&lt;br&gt;Wolves 2–1 Fulham\"><a href=\"/en/matches/b606cbde/Wolverhampton-Wanderers-Fulham-March-9-2024-Premier-League\" style=\"color:#fff; text-decoration:none; background-color: transparent\">L</a></div> <div class=\"poptip\" style=\"display:inline-block; border-radius:2px; background-color:green; width:15px; text-align:center\" tip=\"&lt;strong&gt;March 16, 2024&lt;/strong&gt;&lt;br&gt;Fulham 3–0 Tottenham\"><a href=\"/en/matches/8a009cc4/Fulham-Tottenham-Hotspur-March-16-2024-Premier-League\" style=\"color:#fff; text-decoration:none; background-color: transparent\">W</a></div></div></td><td class=\"right\" csk=\"24290\" data-stat=\"attendance_per_g\">24,290</td><td class=\"right\" csk=\"7\" data-stat=\"top_team_scorers\"><a href=\"/en/players/a755db8c/Rodrigo-Muniz\">Rodrigo Muniz</a> - <span>7</span></td><td class=\"right\" data-stat=\"top_keeper\"><a href=\"/en/players/2628fd2b/Bernd-Leno\">Bernd Leno</a></td><td class=\"left iz\" data-stat=\"notes\"></td></tr> <tr><th class=\"right\" csk=\"13\" data-stat=\"rank\" scope=\"row\">13</th><td class=\"left\" data-stat=\"team\"><img alt=\"Club Crest\" height=\"13\" itemscope=\"image\" src=\"https://cdn.ssref.net/req/202403142/tlogo/fb/mini.4ba7cbea.png\" style=\"vertical-align:text-top\" width=\"13\"/> <a href=\"/en/squads/4ba7cbea/Bournemouth-Stats\">Bournemouth</a></td><td class=\"right\" data-stat=\"games\">28</td><td class=\"right\" data-stat=\"wins\">9</td><td class=\"right\" data-stat=\"ties\">8</td><td class=\"right\" data-stat=\"losses\">11</td><td class=\"right\" data-stat=\"goals_for\">41</td><td class=\"right\" data-stat=\"goals_against\">52</td><td class=\"right\" data-stat=\"goal_diff\">-11</td><td class=\"right\" data-stat=\"points\">35</td><td class=\"right\" data-stat=\"points_avg\">1.25</td><td class=\"right\" data-stat=\"xg_for\">42.6</td><td class=\"right\" data-stat=\"xg_against\">44.8</td><td class=\"right\" data-stat=\"xg_diff\">-2.3</td><td class=\"right\" data-stat=\"xg_diff_per90\">-0.08</td><td class=\"left\" csk=\"8\" data-stat=\"last_5\"><div style=\"display:inline-block\"><div class=\"poptip\" style=\"display:inline-block; border-radius:2px; background-color:#888; width:15px; text-align:center\" tip=\"&lt;strong&gt;February 17, 2024&lt;/strong&gt;&lt;br&gt;Newcastle Utd 2–2 Bournemouth\"><a href=\"/en/matches/083c4444/Newcastle-United-Bournemouth-February-17-2024-Premier-League\" style=\"color:#fff; text-decoration:none; background-color: transparent\">D</a></div> <div class=\"poptip\" style=\"display:inline-block; border-radius:2px; background-color:#e60000; width:15px; text-align:center\" tip=\"&lt;strong&gt;February 24, 2024&lt;/strong&gt;&lt;br&gt;Bournemouth 0–1 Manchester City\"><a href=\"/en/matches/f6d6a212/Bournemouth-Manchester-City-February-24-2024-Premier-League\" style=\"color:#fff; text-decoration:none; background-color: transparent\">L</a></div> <div class=\"poptip\" style=\"display:inline-block; border-radius:2px; background-color:green; width:15px; text-align:center\" tip=\"&lt;strong&gt;March 3, 2024&lt;/strong&gt;&lt;br&gt;Burnley 0–2 Bournemouth\"><a href=\"/en/matches/f7674d8b/Burnley-Bournemouth-March-3-2024-Premier-League\" style=\"color:#fff; text-decoration:none; background-color: transparent\">W</a></div> <div class=\"poptip\" style=\"display:inline-block; border-radius:2px; background-color:#888; width:15px; text-align:center\" tip=\"&lt;strong&gt;March 9, 2024&lt;/strong&gt;&lt;br&gt;Bournemouth 2–2 Sheffield Utd\"><a href=\"/en/matches/81b6715a/Bournemouth-Sheffield-United-March-9-2024-Premier-League\" style=\"color:#fff; text-decoration:none; background-color: transparent\">D</a></div> <div class=\"poptip\" style=\"display:inline-block; border-radius:2px; background-color:green; width:15px; text-align:center\" tip=\"&lt;strong&gt;March 13, 2024&lt;/strong&gt;&lt;br&gt;Bournemouth 4–3 Luton Town\"><a href=\"/en/matches/a32a8157/Bournemouth-Luton-Town-March-13-2024-Premier-League\" style=\"color:#fff; text-decoration:none; background-color: transparent\">W</a></div></div></td><td class=\"right\" csk=\"11081\" data-stat=\"attendance_per_g\">11,081</td><td class=\"right\" csk=\"15\" data-stat=\"top_team_scorers\"><a href=\"/en/players/e77dc3b2/Dominic-Solanke\">Dominic Solanke</a> - <span>15</span></td><td class=\"right\" data-stat=\"top_keeper\"><a href=\"/en/players/a9dc785c/Neto\">Neto</a></td><td class=\"left iz\" data-stat=\"notes\"></td></tr> <tr><th class=\"right\" csk=\"14\" data-stat=\"rank\" scope=\"row\">14</th><td class=\"left\" data-stat=\"team\"><img alt=\"Club Crest\" height=\"13\" itemscope=\"image\" src=\"https://cdn.ssref.net/req/202403142/tlogo/fb/mini.47c64c55.png\" style=\"vertical-align:text-top\" width=\"13\"/> <a href=\"/en/squads/47c64c55/Crystal-Palace-Stats\">Crystal Palace</a></td><td class=\"right\" data-stat=\"games\">28</td><td class=\"right\" data-stat=\"wins\">7</td><td class=\"right\" data-stat=\"ties\">8</td><td class=\"right\" data-stat=\"losses\">13</td><td class=\"right\" data-stat=\"goals_for\">33</td><td class=\"right\" data-stat=\"goals_against\">48</td><td class=\"right\" data-stat=\"goal_diff\">-15</td><td class=\"right\" data-stat=\"points\">29</td><td class=\"right\" data-stat=\"points_avg\">1.04</td><td class=\"right\" data-stat=\"xg_for\">33.1</td><td class=\"right\" data-stat=\"xg_against\">39.9</td><td class=\"right\" data-stat=\"xg_diff\">-6.9</td><td class=\"right\" data-stat=\"xg_diff_per90\">-0.24</td><td class=\"left\" csk=\"5\" data-stat=\"last_5\"><div style=\"display:inline-block\"><div class=\"poptip\" style=\"display:inline-block; border-radius:2px; background-color:#e60000; width:15px; text-align:center\" tip=\"&lt;strong&gt;February 12, 2024&lt;/strong&gt;&lt;br&gt;Crystal Palace 1–3 Chelsea\"><a href=\"/en/matches/1206b952/Crystal-Palace-Chelsea-February-12-2024-Premier-League\" style=\"color:#fff; text-decoration:none; background-color: transparent\">L</a></div> <div class=\"poptip\" style=\"display:inline-block; border-radius:2px; background-color:#888; width:15px; text-align:center\" tip=\"&lt;strong&gt;February 19, 2024&lt;/strong&gt;&lt;br&gt;Everton 1–1 Crystal Palace\"><a href=\"/en/matches/573f2f77/Everton-Crystal-Palace-February-19-2024-Premier-League\" style=\"color:#fff; text-decoration:none; background-color: transparent\">D</a></div> <div class=\"poptip\" style=\"display:inline-block; border-radius:2px; background-color:green; width:15px; text-align:center\" tip=\"&lt;strong&gt;February 24, 2024&lt;/strong&gt;&lt;br&gt;Crystal Palace 3–0 Burnley\"><a href=\"/en/matches/89cd2d5e/Crystal-Palace-Burnley-February-24-2024-Premier-League\" style=\"color:#fff; text-decoration:none; background-color: transparent\">W</a></div> <div class=\"poptip\" style=\"display:inline-block; border-radius:2px; background-color:#e60000; width:15px; text-align:center\" tip=\"&lt;strong&gt;March 2, 2024&lt;/strong&gt;&lt;br&gt;Tottenham 3–1 Crystal Palace\"><a href=\"/en/matches/8812bfd9/Tottenham-Hotspur-Crystal-Palace-March-2-2024-Premier-League\" style=\"color:#fff; text-decoration:none; background-color: transparent\">L</a></div> <div class=\"poptip\" style=\"display:inline-block; border-radius:2px; background-color:#888; width:15px; text-align:center\" tip=\"&lt;strong&gt;March 9, 2024&lt;/strong&gt;&lt;br&gt;Crystal Palace 1–1 Luton Town\"><a href=\"/en/matches/fd693c8e/Crystal-Palace-Luton-Town-March-9-2024-Premier-League\" style=\"color:#fff; text-decoration:none; background-color: transparent\">D</a></div></div></td><td class=\"right\" csk=\"24861\" data-stat=\"attendance_per_g\">24,861</td><td class=\"right\" csk=\"6\" data-stat=\"top_team_scorers\"><a href=\"/en/players/0562b7f1/Odsonne-Edouard\">Odsonne Édouard</a>, <a href=\"/en/players/ae4fc6a4/Eberechi-Eze\">Eberechi Eze</a>... - <span>6</span></td><td class=\"right\" data-stat=\"top_keeper\"><a href=\"/en/players/9e5708be/Sam-Johnstone\">Sam Johnstone</a></td><td class=\"left iz\" data-stat=\"notes\"></td></tr> <tr><th class=\"right\" csk=\"15\" data-stat=\"rank\" scope=\"row\">15</th><td class=\"left\" data-stat=\"team\"><img alt=\"Club Crest\" height=\"13\" itemscope=\"image\" src=\"https://cdn.ssref.net/req/202403142/tlogo/fb/mini.cd051869.png\" style=\"vertical-align:text-top\" width=\"13\"/> <a href=\"/en/squads/cd051869/Brentford-Stats\">Brentford</a></td><td class=\"right\" data-stat=\"games\">29</td><td class=\"right\" data-stat=\"wins\">7</td><td class=\"right\" data-stat=\"ties\">5</td><td class=\"right\" data-stat=\"losses\">17</td><td class=\"right\" data-stat=\"goals_for\">41</td><td class=\"right\" data-stat=\"goals_against\">54</td><td class=\"right\" data-stat=\"goal_diff\">-13</td><td class=\"right\" data-stat=\"points\">26</td><td class=\"right\" data-stat=\"points_avg\">0.90</td><td class=\"right\" data-stat=\"xg_for\">45.0</td><td class=\"right\" data-stat=\"xg_against\">45.2</td><td class=\"right\" data-stat=\"xg_diff\">-0.2</td><td class=\"right\" data-stat=\"xg_diff_per90\">-0.01</td><td class=\"left\" csk=\"1\" data-stat=\"last_5\"><div style=\"display:inline-block\"><div class=\"poptip\" style=\"display:inline-block; border-radius:2px; background-color:#e60000; width:15px; text-align:center\" tip=\"&lt;strong&gt;February 20, 2024&lt;/strong&gt;&lt;br&gt;Manchester City 1–0 Brentford\"><a href=\"/en/matches/af88a1aa/Manchester-City-Brentford-February-20-2024-Premier-League\" style=\"color:#fff; text-decoration:none; background-color: transparent\">L</a></div> <div class=\"poptip\" style=\"display:inline-block; border-radius:2px; background-color:#e60000; width:15px; text-align:center\" tip=\"&lt;strong&gt;February 26, 2024&lt;/strong&gt;&lt;br&gt;West Ham 4–2 Brentford\"><a href=\"/en/matches/15a04102/West-Ham-United-Brentford-February-26-2024-Premier-League\" style=\"color:#fff; text-decoration:none; background-color: transparent\">L</a></div> <div class=\"poptip\" style=\"display:inline-block; border-radius:2px; background-color:#888; width:15px; text-align:center\" tip=\"&lt;strong&gt;March 2, 2024&lt;/strong&gt;&lt;br&gt;Brentford 2–2 Chelsea\"><a href=\"/en/matches/ba1992b0/Brentford-Chelsea-March-2-2024-Premier-League\" style=\"color:#fff; text-decoration:none; background-color: transparent\">D</a></div> <div class=\"poptip\" style=\"display:inline-block; border-radius:2px; background-color:#e60000; width:15px; text-align:center\" tip=\"&lt;strong&gt;March 9, 2024&lt;/strong&gt;&lt;br&gt;Arsenal 2–1 Brentford\"><a href=\"/en/matches/0e9002ec/Arsenal-Brentford-March-9-2024-Premier-League\" style=\"color:#fff; text-decoration:none; background-color: transparent\">L</a></div> <div class=\"poptip\" style=\"display:inline-block; border-radius:2px; background-color:#e60000; width:15px; text-align:center\" tip=\"&lt;strong&gt;March 16, 2024&lt;/strong&gt;&lt;br&gt;Burnley 2–1 Brentford\"><a href=\"/en/matches/b280b66a/Burnley-Brentford-March-16-2024-Premier-League\" style=\"color:#fff; text-decoration:none; background-color: transparent\">L</a></div></div></td><td class=\"right\" csk=\"17077\" data-stat=\"attendance_per_g\">17,077</td><td class=\"right\" csk=\"7\" data-stat=\"top_team_scorers\"><a href=\"/en/players/2500cef9/Yoane-Wissa\">Yoane Wissa</a>, <a href=\"/en/players/6afaebf2/Bryan-Mbeumo\">Bryan Mbeumo</a> - <span>7</span></td><td class=\"right\" data-stat=\"top_keeper\"><a href=\"/en/players/a92ab7be/Mark-Flekken\">Mark Flekken</a></td><td class=\"left iz\" data-stat=\"notes\"></td></tr> <tr><th class=\"right\" csk=\"16\" data-stat=\"rank\" scope=\"row\">16</th><td class=\"left\" data-stat=\"team\"><img alt=\"Club Crest\" height=\"13\" itemscope=\"image\" src=\"https://cdn.ssref.net/req/202403142/tlogo/fb/mini.d3fd31cc.png\" style=\"vertical-align:text-top\" width=\"13\"/> <a href=\"/en/squads/d3fd31cc/Everton-Stats\">Everton</a></td><td class=\"right\" data-stat=\"games\">28</td><td class=\"right\" data-stat=\"wins\">8</td><td class=\"right\" data-stat=\"ties\">7</td><td class=\"right\" data-stat=\"losses\">13</td><td class=\"right\" data-stat=\"goals_for\">29</td><td class=\"right\" data-stat=\"goals_against\">39</td><td class=\"right\" data-stat=\"goal_diff\">-10</td><td class=\"right\" data-stat=\"points\">25</td><td class=\"right\" data-stat=\"points_avg\">0.89</td><td class=\"right\" data-stat=\"xg_for\">42.3</td><td class=\"right\" data-stat=\"xg_against\">39.8</td><td class=\"right\" data-stat=\"xg_diff\">+2.6</td><td class=\"right\" data-stat=\"xg_diff_per90\">+0.09</td><td class=\"left\" csk=\"2\" data-stat=\"last_5\"><div style=\"display:inline-block\"><div class=\"poptip\" style=\"display:inline-block; border-radius:2px; background-color:#e60000; width:15px; text-align:center\" tip=\"&lt;strong&gt;February 10, 2024&lt;/strong&gt;&lt;br&gt;Manchester City 2–0 Everton\"><a href=\"/en/matches/00ea7906/Manchester-City-Everton-February-10-2024-Premier-League\" style=\"color:#fff; text-decoration:none; background-color: transparent\">L</a></div> <div class=\"poptip\" style=\"display:inline-block; border-radius:2px; background-color:#888; width:15px; text-align:center\" tip=\"&lt;strong&gt;February 19, 2024&lt;/strong&gt;&lt;br&gt;Everton 1–1 Crystal Palace\"><a href=\"/en/matches/573f2f77/Everton-Crystal-Palace-February-19-2024-Premier-League\" style=\"color:#fff; text-decoration:none; background-color: transparent\">D</a></div> <div class=\"poptip\" style=\"display:inline-block; border-radius:2px; background-color:#888; width:15px; text-align:center\" tip=\"&lt;strong&gt;February 24, 2024&lt;/strong&gt;&lt;br&gt;Brighton 1–1 Everton\"><a href=\"/en/matches/eb7c6993/Brighton-and-Hove-Albion-Everton-February-24-2024-Premier-League\" style=\"color:#fff; text-decoration:none; background-color: transparent\">D</a></div> <div class=\"poptip\" style=\"display:inline-block; border-radius:2px; background-color:#e60000; width:15px; text-align:center\" tip=\"&lt;strong&gt;March 2, 2024&lt;/strong&gt;&lt;br&gt;Everton 1–3 West Ham\"><a href=\"/en/matches/e9183936/Everton-West-Ham-United-March-2-2024-Premier-League\" style=\"color:#fff; text-decoration:none; background-color: transparent\">L</a></div> <div class=\"poptip\" style=\"display:inline-block; border-radius:2px; background-color:#e60000; width:15px; text-align:center\" tip=\"&lt;strong&gt;March 9, 2024&lt;/strong&gt;&lt;br&gt;Manchester Utd 2–0 Everton\"><a href=\"/en/matches/fede7f6e/Manchester-United-Everton-March-9-2024-Premier-League\" style=\"color:#fff; text-decoration:none; background-color: transparent\">L</a></div></div></td><td class=\"right\" csk=\"39063\" data-stat=\"attendance_per_g\">39,063</td><td class=\"right\" csk=\"6\" data-stat=\"top_team_scorers\"><a href=\"/en/players/02b29014/Abdoulaye-Doucoure\">Abdoulaye Doucouré</a> - <span>6</span></td><td class=\"right\" data-stat=\"top_keeper\"><a href=\"/en/players/4806ec67/Jordan-Pickford\">Jordan Pickford</a></td><td class=\"left\" data-stat=\"notes\">6-point deduction <sup><span class=\"tooltip\" tip=\"Everton were deducted 6 points for breaching financial regulations.\">1</span></sup></td></tr> <tr><th class=\"right\" csk=\"17\" data-stat=\"rank\" scope=\"row\">17</th><td class=\"left\" data-stat=\"team\"><img alt=\"Club Crest\" height=\"13\" itemscope=\"image\" src=\"https://cdn.ssref.net/req/202403142/tlogo/fb/mini.e297cd13.png\" style=\"vertical-align:text-top\" width=\"13\"/> <a href=\"/en/squads/e297cd13/Luton-Town-Stats\">Luton Town</a></td><td class=\"right\" data-stat=\"games\">29</td><td class=\"right\" data-stat=\"wins\">5</td><td class=\"right\" data-stat=\"ties\">7</td><td class=\"right\" data-stat=\"losses\">17</td><td class=\"right\" data-stat=\"goals_for\">42</td><td class=\"right\" data-stat=\"goals_against\">60</td><td class=\"right\" data-stat=\"goal_diff\">-18</td><td class=\"right\" data-stat=\"points\">22</td><td class=\"right\" data-stat=\"points_avg\">0.76</td><td class=\"right\" data-stat=\"xg_for\">35.3</td><td class=\"right\" data-stat=\"xg_against\">59.8</td><td class=\"right\" data-stat=\"xg_diff\">-24.4</td><td class=\"right\" data-stat=\"xg_diff_per90\">-0.84</td><td class=\"left\" csk=\"2\" data-stat=\"last_5\"><div style=\"display:inline-block\"><div class=\"poptip\" style=\"display:inline-block; border-radius:2px; background-color:#e60000; width:15px; text-align:center\" tip=\"&lt;strong&gt;February 21, 2024&lt;/strong&gt;&lt;br&gt;Liverpool 4–1 Luton Town\"><a href=\"/en/matches/58636a1e/Liverpool-Luton-Town-February-21-2024-Premier-League\" style=\"color:#fff; text-decoration:none; background-color: transparent\">L</a></div> <div class=\"poptip\" style=\"display:inline-block; border-radius:2px; background-color:#e60000; width:15px; text-align:center\" tip=\"&lt;strong&gt;March 2, 2024&lt;/strong&gt;&lt;br&gt;Luton Town 2–3 Aston Villa\"><a href=\"/en/matches/59f4adc0/Luton-Town-Aston-Villa-March-2-2024-Premier-League\" style=\"color:#fff; text-decoration:none; background-color: transparent\">L</a></div> <div class=\"poptip\" style=\"display:inline-block; border-radius:2px; background-color:#888; width:15px; text-align:center\" tip=\"&lt;strong&gt;March 9, 2024&lt;/strong&gt;&lt;br&gt;Crystal Palace 1–1 Luton Town\"><a href=\"/en/matches/fd693c8e/Crystal-Palace-Luton-Town-March-9-2024-Premier-League\" style=\"color:#fff; text-decoration:none; background-color: transparent\">D</a></div> <div class=\"poptip\" style=\"display:inline-block; border-radius:2px; background-color:#e60000; width:15px; text-align:center\" tip=\"&lt;strong&gt;March 13, 2024&lt;/strong&gt;&lt;br&gt;Bournemouth 4–3 Luton Town\"><a href=\"/en/matches/a32a8157/Bournemouth-Luton-Town-March-13-2024-Premier-League\" style=\"color:#fff; text-decoration:none; background-color: transparent\">L</a></div> <div class=\"poptip\" style=\"display:inline-block; border-radius:2px; background-color:#888; width:15px; text-align:center\" tip=\"&lt;strong&gt;March 16, 2024&lt;/strong&gt;&lt;br&gt;Luton Town 1–1 Nott'ham Forest\"><a href=\"/en/matches/76d09384/Luton-Town-Nottingham-Forest-March-16-2024-Premier-League\" style=\"color:#fff; text-decoration:none; background-color: transparent\">D</a></div></div></td><td class=\"right\" csk=\"11065\" data-stat=\"attendance_per_g\">11,065</td><td class=\"right\" csk=\"9\" data-stat=\"top_team_scorers\"><a href=\"/en/players/0480ebc7/Elijah-Adebayo\">Elijah Adebayo</a> - <span>9</span></td><td class=\"right\" data-stat=\"top_keeper\"><a href=\"/en/players/1caa93a5/Thomas-Kaminski\">Thomas Kaminski</a></td><td class=\"left iz\" data-stat=\"notes\"></td></tr> <tr><th class=\"right relegate qualification_indicator\" csk=\"18\" data-stat=\"rank\" scope=\"row\">18</th><td class=\"left\" data-stat=\"team\"><img alt=\"Club Crest\" height=\"13\" itemscope=\"image\" src=\"https://cdn.ssref.net/req/202403142/tlogo/fb/mini.e4a775cb.png\" style=\"vertical-align:text-top\" width=\"13\"/> <a href=\"/en/squads/e4a775cb/Nottingham-Forest-Stats\">Nott'ham Forest</a></td><td class=\"right\" data-stat=\"games\">29</td><td class=\"right\" data-stat=\"wins\">6</td><td class=\"right\" data-stat=\"ties\">7</td><td class=\"right\" data-stat=\"losses\">16</td><td class=\"right\" data-stat=\"goals_for\">35</td><td class=\"right\" data-stat=\"goals_against\">51</td><td class=\"right\" data-stat=\"goal_diff\">-16</td><td class=\"right\" data-stat=\"points\">21</td><td class=\"right\" data-stat=\"points_avg\">0.72</td><td class=\"right\" data-stat=\"xg_for\">36.5</td><td class=\"right\" data-stat=\"xg_against\">41.9</td><td class=\"right\" data-stat=\"xg_diff\">-5.4</td><td class=\"right\" data-stat=\"xg_diff_per90\">-0.19</td><td class=\"left\" csk=\"4\" data-stat=\"last_5\"><div style=\"display:inline-block\"><div class=\"poptip\" style=\"display:inline-block; border-radius:2px; background-color:green; width:15px; text-align:center\" tip=\"&lt;strong&gt;February 17, 2024&lt;/strong&gt;&lt;br&gt;Nott'ham Forest 2–0 West Ham\"><a href=\"/en/matches/d657db47/Nottingham-Forest-West-Ham-United-February-17-2024-Premier-League\" style=\"color:#fff; text-decoration:none; background-color: transparent\">W</a></div> <div class=\"poptip\" style=\"display:inline-block; border-radius:2px; background-color:#e60000; width:15px; text-align:center\" tip=\"&lt;strong&gt;February 24, 2024&lt;/strong&gt;&lt;br&gt;Aston Villa 4–2 Nott'ham Forest\"><a href=\"/en/matches/f61fbe36/Aston-Villa-Nottingham-Forest-February-24-2024-Premier-League\" style=\"color:#fff; text-decoration:none; background-color: transparent\">L</a></div> <div class=\"poptip\" style=\"display:inline-block; border-radius:2px; background-color:#e60000; width:15px; text-align:center\" tip=\"&lt;strong&gt;March 2, 2024&lt;/strong&gt;&lt;br&gt;Nott'ham Forest 0–1 Liverpool\"><a href=\"/en/matches/d1a00cf0/Nottingham-Forest-Liverpool-March-2-2024-Premier-League\" style=\"color:#fff; text-decoration:none; background-color: transparent\">L</a></div> <div class=\"poptip\" style=\"display:inline-block; border-radius:2px; background-color:#e60000; width:15px; text-align:center\" tip=\"&lt;strong&gt;March 10, 2024&lt;/strong&gt;&lt;br&gt;Brighton 1–0 Nott'ham Forest\"><a href=\"/en/matches/f17d9ccd/Brighton-and-Hove-Albion-Nottingham-Forest-March-10-2024-Premier-League\" style=\"color:#fff; text-decoration:none; background-color: transparent\">L</a></div> <div class=\"poptip\" style=\"display:inline-block; border-radius:2px; background-color:#888; width:15px; text-align:center\" tip=\"&lt;strong&gt;March 16, 2024&lt;/strong&gt;&lt;br&gt;Luton Town 1–1 Nott'ham Forest\"><a href=\"/en/matches/76d09384/Luton-Town-Nottingham-Forest-March-16-2024-Premier-League\" style=\"color:#fff; text-decoration:none; background-color: transparent\">D</a></div></div></td><td class=\"right\" csk=\"29344\" data-stat=\"attendance_per_g\">29,344</td><td class=\"right\" csk=\"9\" data-stat=\"top_team_scorers\"><a href=\"/en/players/4e9a0555/Chris-Wood\">Chris Wood</a> - <span>9</span></td><td class=\"right\" data-stat=\"top_keeper\"><a href=\"/en/players/4a51ba65/Matt-Turner\">Matt Turner</a></td><td class=\"left\" data-stat=\"notes\">4-point deduction <sup><span class=\"tooltip\" tip=\"Nottingham Forest were deducted 4 points for breaching financial regulations.\">2</span></sup></td></tr> <tr><th class=\"right relegate qualification_indicator\" csk=\"19\" data-stat=\"rank\" scope=\"row\">19</th><td class=\"left\" data-stat=\"team\"><img alt=\"Club Crest\" height=\"13\" itemscope=\"image\" src=\"https://cdn.ssref.net/req/202403142/tlogo/fb/mini.943e8050.png\" style=\"vertical-align:text-top\" width=\"13\"/> <a href=\"/en/squads/943e8050/Burnley-Stats\">Burnley</a></td><td class=\"right\" data-stat=\"games\">29</td><td class=\"right\" data-stat=\"wins\">4</td><td class=\"right\" data-stat=\"ties\">5</td><td class=\"right\" data-stat=\"losses\">20</td><td class=\"right\" data-stat=\"goals_for\">29</td><td class=\"right\" data-stat=\"goals_against\">63</td><td class=\"right\" data-stat=\"goal_diff\">-34</td><td class=\"right\" data-stat=\"points\">17</td><td class=\"right\" data-stat=\"points_avg\">0.59</td><td class=\"right\" data-stat=\"xg_for\">28.4</td><td class=\"right\" data-stat=\"xg_against\">50.5</td><td class=\"right\" data-stat=\"xg_diff\">-22.1</td><td class=\"right\" data-stat=\"xg_diff_per90\">-0.76</td><td class=\"left\" csk=\"4\" data-stat=\"last_5\"><div style=\"display:inline-block\"><div class=\"poptip\" style=\"display:inline-block; border-radius:2px; background-color:#e60000; width:15px; text-align:center\" tip=\"&lt;strong&gt;February 17, 2024&lt;/strong&gt;&lt;br&gt;Burnley 0–5 Arsenal\"><a href=\"/en/matches/59631171/Burnley-Arsenal-February-17-2024-Premier-League\" style=\"color:#fff; text-decoration:none; background-color: transparent\">L</a></div> <div class=\"poptip\" style=\"display:inline-block; border-radius:2px; background-color:#e60000; width:15px; text-align:center\" tip=\"&lt;strong&gt;February 24, 2024&lt;/strong&gt;&lt;br&gt;Crystal Palace 3–0 Burnley\"><a href=\"/en/matches/89cd2d5e/Crystal-Palace-Burnley-February-24-2024-Premier-League\" style=\"color:#fff; text-decoration:none; background-color: transparent\">L</a></div> <div class=\"poptip\" style=\"display:inline-block; border-radius:2px; background-color:#e60000; width:15px; text-align:center\" tip=\"&lt;strong&gt;March 3, 2024&lt;/strong&gt;&lt;br&gt;Burnley 0–2 Bournemouth\"><a href=\"/en/matches/f7674d8b/Burnley-Bournemouth-March-3-2024-Premier-League\" style=\"color:#fff; text-decoration:none; background-color: transparent\">L</a></div> <div class=\"poptip\" style=\"display:inline-block; border-radius:2px; background-color:#888; width:15px; text-align:center\" tip=\"&lt;strong&gt;March 10, 2024&lt;/strong&gt;&lt;br&gt;West Ham 2–2 Burnley\"><a href=\"/en/matches/9ef133d6/West-Ham-United-Burnley-March-10-2024-Premier-League\" style=\"color:#fff; text-decoration:none; background-color: transparent\">D</a></div> <div class=\"poptip\" style=\"display:inline-block; border-radius:2px; background-color:green; width:15px; text-align:center\" tip=\"&lt;strong&gt;March 16, 2024&lt;/strong&gt;&lt;br&gt;Burnley 2–1 Brentford\"><a href=\"/en/matches/b280b66a/Burnley-Brentford-March-16-2024-Premier-League\" style=\"color:#fff; text-decoration:none; background-color: transparent\">W</a></div></div></td><td class=\"right\" csk=\"21159\" data-stat=\"attendance_per_g\">21,159</td><td class=\"right\" csk=\"4\" data-stat=\"top_team_scorers\"><a href=\"/en/players/f84a807c/Lyle-Foster\">Lyle Foster</a>, <a href=\"/en/players/2ee5b0c9/Zeki-Amdouni\">Zeki Amdouni</a>... - <span>4</span></td><td class=\"right\" data-stat=\"top_keeper\"><a href=\"/en/players/259fea27/James-Trafford\">James Trafford</a></td><td class=\"left iz\" data-stat=\"notes\"></td></tr> <tr><th class=\"right relegate qualification_indicator\" csk=\"20\" data-stat=\"rank\" scope=\"row\">20</th><td class=\"left\" data-stat=\"team\"><img alt=\"Club Crest\" height=\"13\" itemscope=\"image\" src=\"https://cdn.ssref.net/req/202403142/tlogo/fb/mini.1df6b87e.png\" style=\"vertical-align:text-top\" width=\"13\"/> <a href=\"/en/squads/1df6b87e/Sheffield-United-Stats\">Sheffield Utd</a></td><td class=\"right\" data-stat=\"games\">28</td><td class=\"right\" data-stat=\"wins\">3</td><td class=\"right\" data-stat=\"ties\">5</td><td class=\"right\" data-stat=\"losses\">20</td><td class=\"right\" data-stat=\"goals_for\">24</td><td class=\"right\" data-stat=\"goals_against\">74</td><td class=\"right\" data-stat=\"goal_diff\">-50</td><td class=\"right\" data-stat=\"points\">14</td><td class=\"right\" data-stat=\"points_avg\">0.50</td><td class=\"right\" data-stat=\"xg_for\">25.2</td><td class=\"right\" data-stat=\"xg_against\">57.1</td><td class=\"right\" data-stat=\"xg_diff\">-31.9</td><td class=\"right\" data-stat=\"xg_diff_per90\">-1.14</td><td class=\"left\" csk=\"4\" data-stat=\"last_5\"><div style=\"display:inline-block\"><div class=\"poptip\" style=\"display:inline-block; border-radius:2px; background-color:green; width:15px; text-align:center\" tip=\"&lt;strong&gt;February 10, 2024&lt;/strong&gt;&lt;br&gt;Luton Town 1–3 Sheffield Utd\"><a href=\"/en/matches/1a4e7d02/Luton-Town-Sheffield-United-February-10-2024-Premier-League\" style=\"color:#fff; text-decoration:none; background-color: transparent\">W</a></div> <div class=\"poptip\" style=\"display:inline-block; border-radius:2px; background-color:#e60000; width:15px; text-align:center\" tip=\"&lt;strong&gt;February 18, 2024&lt;/strong&gt;&lt;br&gt;Sheffield Utd 0–5 Brighton\"><a href=\"/en/matches/811fa03f/Sheffield-United-Brighton-and-Hove-Albion-February-18-2024-Premier-League\" style=\"color:#fff; text-decoration:none; background-color: transparent\">L</a></div> <div class=\"poptip\" style=\"display:inline-block; border-radius:2px; background-color:#e60000; width:15px; text-align:center\" tip=\"&lt;strong&gt;February 25, 2024&lt;/strong&gt;&lt;br&gt;Wolves 1–0 Sheffield Utd\"><a href=\"/en/matches/ada09dda/Wolverhampton-Wanderers-Sheffield-United-February-25-2024-Premier-League\" style=\"color:#fff; text-decoration:none; background-color: transparent\">L</a></div> <div class=\"poptip\" style=\"display:inline-block; border-radius:2px; background-color:#e60000; width:15px; text-align:center\" tip=\"&lt;strong&gt;March 4, 2024&lt;/strong&gt;&lt;br&gt;Sheffield Utd 0–6 Arsenal\"><a href=\"/en/matches/2eca8900/Sheffield-United-Arsenal-March-4-2024-Premier-League\" style=\"color:#fff; text-decoration:none; background-color: transparent\">L</a></div> <div class=\"poptip\" style=\"display:inline-block; border-radius:2px; background-color:#888; width:15px; text-align:center\" tip=\"&lt;strong&gt;March 9, 2024&lt;/strong&gt;&lt;br&gt;Bournemouth 2–2 Sheffield Utd\"><a href=\"/en/matches/81b6715a/Bournemouth-Sheffield-United-March-9-2024-Premier-League\" style=\"color:#fff; text-decoration:none; background-color: transparent\">D</a></div></div></td><td class=\"right\" csk=\"30355\" data-stat=\"attendance_per_g\">30,355</td><td class=\"right\" csk=\"4\" data-stat=\"top_team_scorers\"><a href=\"/en/players/78b8ac63/Oliver-McBurnie\">Oliver McBurnie</a>, <a href=\"/en/players/05e8ca6d/Cameron-Archer\">Cameron Archer</a> - <span>4</span></td><td class=\"right\" data-stat=\"top_keeper\"><a href=\"/en/players/96cf7b61/Wes-Foderingham\">Wes Foderingham</a></td><td class=\"left iz\" data-stat=\"notes\"></td></tr> </tbody> </table>"
     },
     "execution_count": 422,
     "metadata": {},
     "output_type": "execute_result"
    }
   ],
   "source": [
    "# Select table \n",
    "standing_table = soup.select('table.stats_table')[0]\n",
    "standing_table"
   ],
   "metadata": {
    "collapsed": false,
    "ExecuteTime": {
     "end_time": "2024-03-24T16:50:59.052322Z",
     "start_time": "2024-03-24T16:50:59.017894Z"
    }
   },
   "id": "9767aa52dbf8c54c",
   "execution_count": 422
  },
  {
   "cell_type": "code",
   "outputs": [],
   "source": [
    "#Find all the a tags inside table \n",
    "links = standing_table.find_all('a')"
   ],
   "metadata": {
    "collapsed": false,
    "ExecuteTime": {
     "end_time": "2024-03-24T16:50:59.052965Z",
     "start_time": "2024-03-24T16:50:59.050294Z"
    }
   },
   "id": "fb294029cea0f377",
   "execution_count": 423
  },
  {
   "cell_type": "code",
   "outputs": [],
   "source": [
    "links = [l.get(\"href\") for l in links]"
   ],
   "metadata": {
    "collapsed": false,
    "ExecuteTime": {
     "end_time": "2024-03-24T16:50:59.054186Z",
     "start_time": "2024-03-24T16:50:59.052370Z"
    }
   },
   "id": "2e04db9096b8e370",
   "execution_count": 424
  },
  {
   "cell_type": "code",
   "outputs": [],
   "source": [
    "squad_urls =[l for l in links if '/squads/' in l]"
   ],
   "metadata": {
    "collapsed": false,
    "ExecuteTime": {
     "end_time": "2024-03-24T16:50:59.060488Z",
     "start_time": "2024-03-24T16:50:59.054411Z"
    }
   },
   "id": "4c5bb99ea13a1969",
   "execution_count": 425
  },
  {
   "cell_type": "code",
   "outputs": [
    {
     "data": {
      "text/plain": "['/en/squads/18bb7c10/Arsenal-Stats',\n '/en/squads/822bd0ba/Liverpool-Stats',\n '/en/squads/b8fd03ef/Manchester-City-Stats',\n '/en/squads/8602292d/Aston-Villa-Stats',\n '/en/squads/361ca564/Tottenham-Hotspur-Stats',\n '/en/squads/19538871/Manchester-United-Stats',\n '/en/squads/7c21e445/West-Ham-United-Stats',\n '/en/squads/d07537b9/Brighton-and-Hove-Albion-Stats',\n '/en/squads/8cec06e1/Wolverhampton-Wanderers-Stats',\n '/en/squads/b2b47a98/Newcastle-United-Stats',\n '/en/squads/cff3d9bb/Chelsea-Stats',\n '/en/squads/fd962109/Fulham-Stats',\n '/en/squads/4ba7cbea/Bournemouth-Stats',\n '/en/squads/47c64c55/Crystal-Palace-Stats',\n '/en/squads/cd051869/Brentford-Stats',\n '/en/squads/d3fd31cc/Everton-Stats',\n '/en/squads/e297cd13/Luton-Town-Stats',\n '/en/squads/e4a775cb/Nottingham-Forest-Stats',\n '/en/squads/943e8050/Burnley-Stats',\n '/en/squads/1df6b87e/Sheffield-United-Stats']"
     },
     "execution_count": 426,
     "metadata": {},
     "output_type": "execute_result"
    }
   ],
   "source": [
    "squad_urls"
   ],
   "metadata": {
    "collapsed": false,
    "ExecuteTime": {
     "end_time": "2024-03-24T16:50:59.061144Z",
     "start_time": "2024-03-24T16:50:59.056568Z"
    }
   },
   "id": "43bc16ea4cd4152e",
   "execution_count": 426
  },
  {
   "cell_type": "code",
   "outputs": [
    {
     "data": {
      "text/plain": "['https://fbref.com/en/squads/18bb7c10/Arsenal-Stats',\n 'https://fbref.com/en/squads/822bd0ba/Liverpool-Stats',\n 'https://fbref.com/en/squads/b8fd03ef/Manchester-City-Stats',\n 'https://fbref.com/en/squads/8602292d/Aston-Villa-Stats',\n 'https://fbref.com/en/squads/361ca564/Tottenham-Hotspur-Stats',\n 'https://fbref.com/en/squads/19538871/Manchester-United-Stats',\n 'https://fbref.com/en/squads/7c21e445/West-Ham-United-Stats',\n 'https://fbref.com/en/squads/d07537b9/Brighton-and-Hove-Albion-Stats',\n 'https://fbref.com/en/squads/8cec06e1/Wolverhampton-Wanderers-Stats',\n 'https://fbref.com/en/squads/b2b47a98/Newcastle-United-Stats',\n 'https://fbref.com/en/squads/cff3d9bb/Chelsea-Stats',\n 'https://fbref.com/en/squads/fd962109/Fulham-Stats',\n 'https://fbref.com/en/squads/4ba7cbea/Bournemouth-Stats',\n 'https://fbref.com/en/squads/47c64c55/Crystal-Palace-Stats',\n 'https://fbref.com/en/squads/cd051869/Brentford-Stats',\n 'https://fbref.com/en/squads/d3fd31cc/Everton-Stats',\n 'https://fbref.com/en/squads/e297cd13/Luton-Town-Stats',\n 'https://fbref.com/en/squads/e4a775cb/Nottingham-Forest-Stats',\n 'https://fbref.com/en/squads/943e8050/Burnley-Stats',\n 'https://fbref.com/en/squads/1df6b87e/Sheffield-United-Stats']"
     },
     "execution_count": 427,
     "metadata": {},
     "output_type": "execute_result"
    }
   ],
   "source": [
    "team_urls = [f\"https://fbref.com{l}\" for l in squad_urls ]\n",
    "team_urls"
   ],
   "metadata": {
    "collapsed": false,
    "ExecuteTime": {
     "end_time": "2024-03-24T16:50:59.062158Z",
     "start_time": "2024-03-24T16:50:59.058945Z"
    }
   },
   "id": "af828204a04a52cf",
   "execution_count": 427
  },
  {
   "cell_type": "code",
   "outputs": [],
   "source": [
    "team_url = team_urls[0]\n"
   ],
   "metadata": {
    "collapsed": false,
    "ExecuteTime": {
     "end_time": "2024-03-24T16:50:59.064198Z",
     "start_time": "2024-03-24T16:50:59.062682Z"
    }
   },
   "id": "c85ad7fe41df9225",
   "execution_count": 428
  },
  {
   "cell_type": "code",
   "outputs": [],
   "source": [
    "data = requests.get(team_url)"
   ],
   "metadata": {
    "collapsed": false,
    "ExecuteTime": {
     "end_time": "2024-03-24T16:50:59.514047Z",
     "start_time": "2024-03-24T16:50:59.064646Z"
    }
   },
   "id": "79c773203492e1cd",
   "execution_count": 429
  },
  {
   "cell_type": "code",
   "outputs": [
    {
     "ename": "ValueError",
     "evalue": "No tables found",
     "output_type": "error",
     "traceback": [
      "\u001B[0;31m---------------------------------------------------------------------------\u001B[0m",
      "\u001B[0;31mValueError\u001B[0m                                Traceback (most recent call last)",
      "Cell \u001B[0;32mIn[430], line 2\u001B[0m\n\u001B[1;32m      1\u001B[0m \u001B[38;5;28;01mimport\u001B[39;00m \u001B[38;5;21;01mpandas\u001B[39;00m \u001B[38;5;28;01mas\u001B[39;00m \u001B[38;5;21;01mpd\u001B[39;00m \n\u001B[0;32m----> 2\u001B[0m matches \u001B[38;5;241m=\u001B[39m pd\u001B[38;5;241m.\u001B[39mread_html(data\u001B[38;5;241m.\u001B[39mtext, match\u001B[38;5;241m=\u001B[39m \u001B[38;5;124m\"\u001B[39m\u001B[38;5;124mScores & Fixtures\u001B[39m\u001B[38;5;124m\"\u001B[39m)\n",
      "File \u001B[0;32m~/anaconda3/lib/python3.11/site-packages/pandas/util/_decorators.py:331\u001B[0m, in \u001B[0;36mdeprecate_nonkeyword_arguments.<locals>.decorate.<locals>.wrapper\u001B[0;34m(*args, **kwargs)\u001B[0m\n\u001B[1;32m    325\u001B[0m \u001B[38;5;28;01mif\u001B[39;00m \u001B[38;5;28mlen\u001B[39m(args) \u001B[38;5;241m>\u001B[39m num_allow_args:\n\u001B[1;32m    326\u001B[0m     warnings\u001B[38;5;241m.\u001B[39mwarn(\n\u001B[1;32m    327\u001B[0m         msg\u001B[38;5;241m.\u001B[39mformat(arguments\u001B[38;5;241m=\u001B[39m_format_argument_list(allow_args)),\n\u001B[1;32m    328\u001B[0m         \u001B[38;5;167;01mFutureWarning\u001B[39;00m,\n\u001B[1;32m    329\u001B[0m         stacklevel\u001B[38;5;241m=\u001B[39mfind_stack_level(),\n\u001B[1;32m    330\u001B[0m     )\n\u001B[0;32m--> 331\u001B[0m \u001B[38;5;28;01mreturn\u001B[39;00m func(\u001B[38;5;241m*\u001B[39margs, \u001B[38;5;241m*\u001B[39m\u001B[38;5;241m*\u001B[39mkwargs)\n",
      "File \u001B[0;32m~/anaconda3/lib/python3.11/site-packages/pandas/io/html.py:1205\u001B[0m, in \u001B[0;36mread_html\u001B[0;34m(io, match, flavor, header, index_col, skiprows, attrs, parse_dates, thousands, encoding, decimal, converters, na_values, keep_default_na, displayed_only, extract_links)\u001B[0m\n\u001B[1;32m   1201\u001B[0m validate_header_arg(header)\n\u001B[1;32m   1203\u001B[0m io \u001B[38;5;241m=\u001B[39m stringify_path(io)\n\u001B[0;32m-> 1205\u001B[0m \u001B[38;5;28;01mreturn\u001B[39;00m _parse(\n\u001B[1;32m   1206\u001B[0m     flavor\u001B[38;5;241m=\u001B[39mflavor,\n\u001B[1;32m   1207\u001B[0m     io\u001B[38;5;241m=\u001B[39mio,\n\u001B[1;32m   1208\u001B[0m     match\u001B[38;5;241m=\u001B[39mmatch,\n\u001B[1;32m   1209\u001B[0m     header\u001B[38;5;241m=\u001B[39mheader,\n\u001B[1;32m   1210\u001B[0m     index_col\u001B[38;5;241m=\u001B[39mindex_col,\n\u001B[1;32m   1211\u001B[0m     skiprows\u001B[38;5;241m=\u001B[39mskiprows,\n\u001B[1;32m   1212\u001B[0m     parse_dates\u001B[38;5;241m=\u001B[39mparse_dates,\n\u001B[1;32m   1213\u001B[0m     thousands\u001B[38;5;241m=\u001B[39mthousands,\n\u001B[1;32m   1214\u001B[0m     attrs\u001B[38;5;241m=\u001B[39mattrs,\n\u001B[1;32m   1215\u001B[0m     encoding\u001B[38;5;241m=\u001B[39mencoding,\n\u001B[1;32m   1216\u001B[0m     decimal\u001B[38;5;241m=\u001B[39mdecimal,\n\u001B[1;32m   1217\u001B[0m     converters\u001B[38;5;241m=\u001B[39mconverters,\n\u001B[1;32m   1218\u001B[0m     na_values\u001B[38;5;241m=\u001B[39mna_values,\n\u001B[1;32m   1219\u001B[0m     keep_default_na\u001B[38;5;241m=\u001B[39mkeep_default_na,\n\u001B[1;32m   1220\u001B[0m     displayed_only\u001B[38;5;241m=\u001B[39mdisplayed_only,\n\u001B[1;32m   1221\u001B[0m     extract_links\u001B[38;5;241m=\u001B[39mextract_links,\n\u001B[1;32m   1222\u001B[0m )\n",
      "File \u001B[0;32m~/anaconda3/lib/python3.11/site-packages/pandas/io/html.py:1006\u001B[0m, in \u001B[0;36m_parse\u001B[0;34m(flavor, io, match, attrs, encoding, displayed_only, extract_links, **kwargs)\u001B[0m\n\u001B[1;32m   1004\u001B[0m \u001B[38;5;28;01melse\u001B[39;00m:\n\u001B[1;32m   1005\u001B[0m     \u001B[38;5;28;01massert\u001B[39;00m retained \u001B[38;5;129;01mis\u001B[39;00m \u001B[38;5;129;01mnot\u001B[39;00m \u001B[38;5;28;01mNone\u001B[39;00m  \u001B[38;5;66;03m# for mypy\u001B[39;00m\n\u001B[0;32m-> 1006\u001B[0m     \u001B[38;5;28;01mraise\u001B[39;00m retained\n\u001B[1;32m   1008\u001B[0m ret \u001B[38;5;241m=\u001B[39m []\n\u001B[1;32m   1009\u001B[0m \u001B[38;5;28;01mfor\u001B[39;00m table \u001B[38;5;129;01min\u001B[39;00m tables:\n",
      "File \u001B[0;32m~/anaconda3/lib/python3.11/site-packages/pandas/io/html.py:986\u001B[0m, in \u001B[0;36m_parse\u001B[0;34m(flavor, io, match, attrs, encoding, displayed_only, extract_links, **kwargs)\u001B[0m\n\u001B[1;32m    983\u001B[0m p \u001B[38;5;241m=\u001B[39m parser(io, compiled_match, attrs, encoding, displayed_only, extract_links)\n\u001B[1;32m    985\u001B[0m \u001B[38;5;28;01mtry\u001B[39;00m:\n\u001B[0;32m--> 986\u001B[0m     tables \u001B[38;5;241m=\u001B[39m p\u001B[38;5;241m.\u001B[39mparse_tables()\n\u001B[1;32m    987\u001B[0m \u001B[38;5;28;01mexcept\u001B[39;00m \u001B[38;5;167;01mValueError\u001B[39;00m \u001B[38;5;28;01mas\u001B[39;00m caught:\n\u001B[1;32m    988\u001B[0m     \u001B[38;5;66;03m# if `io` is an io-like object, check if it's seekable\u001B[39;00m\n\u001B[1;32m    989\u001B[0m     \u001B[38;5;66;03m# and try to rewind it before trying the next parser\u001B[39;00m\n\u001B[1;32m    990\u001B[0m     \u001B[38;5;28;01mif\u001B[39;00m \u001B[38;5;28mhasattr\u001B[39m(io, \u001B[38;5;124m\"\u001B[39m\u001B[38;5;124mseekable\u001B[39m\u001B[38;5;124m\"\u001B[39m) \u001B[38;5;129;01mand\u001B[39;00m io\u001B[38;5;241m.\u001B[39mseekable():\n",
      "File \u001B[0;32m~/anaconda3/lib/python3.11/site-packages/pandas/io/html.py:262\u001B[0m, in \u001B[0;36m_HtmlFrameParser.parse_tables\u001B[0;34m(self)\u001B[0m\n\u001B[1;32m    254\u001B[0m \u001B[38;5;28;01mdef\u001B[39;00m \u001B[38;5;21mparse_tables\u001B[39m(\u001B[38;5;28mself\u001B[39m):\n\u001B[1;32m    255\u001B[0m \u001B[38;5;250m    \u001B[39m\u001B[38;5;124;03m\"\"\"\u001B[39;00m\n\u001B[1;32m    256\u001B[0m \u001B[38;5;124;03m    Parse and return all tables from the DOM.\u001B[39;00m\n\u001B[1;32m    257\u001B[0m \n\u001B[0;32m   (...)\u001B[0m\n\u001B[1;32m    260\u001B[0m \u001B[38;5;124;03m    list of parsed (header, body, footer) tuples from tables.\u001B[39;00m\n\u001B[1;32m    261\u001B[0m \u001B[38;5;124;03m    \"\"\"\u001B[39;00m\n\u001B[0;32m--> 262\u001B[0m     tables \u001B[38;5;241m=\u001B[39m \u001B[38;5;28mself\u001B[39m\u001B[38;5;241m.\u001B[39m_parse_tables(\u001B[38;5;28mself\u001B[39m\u001B[38;5;241m.\u001B[39m_build_doc(), \u001B[38;5;28mself\u001B[39m\u001B[38;5;241m.\u001B[39mmatch, \u001B[38;5;28mself\u001B[39m\u001B[38;5;241m.\u001B[39mattrs)\n\u001B[1;32m    263\u001B[0m     \u001B[38;5;28;01mreturn\u001B[39;00m (\u001B[38;5;28mself\u001B[39m\u001B[38;5;241m.\u001B[39m_parse_thead_tbody_tfoot(table) \u001B[38;5;28;01mfor\u001B[39;00m table \u001B[38;5;129;01min\u001B[39;00m tables)\n",
      "File \u001B[0;32m~/anaconda3/lib/python3.11/site-packages/pandas/io/html.py:618\u001B[0m, in \u001B[0;36m_BeautifulSoupHtml5LibFrameParser._parse_tables\u001B[0;34m(self, doc, match, attrs)\u001B[0m\n\u001B[1;32m    615\u001B[0m tables \u001B[38;5;241m=\u001B[39m doc\u001B[38;5;241m.\u001B[39mfind_all(element_name, attrs\u001B[38;5;241m=\u001B[39mattrs)\n\u001B[1;32m    617\u001B[0m \u001B[38;5;28;01mif\u001B[39;00m \u001B[38;5;129;01mnot\u001B[39;00m tables:\n\u001B[0;32m--> 618\u001B[0m     \u001B[38;5;28;01mraise\u001B[39;00m \u001B[38;5;167;01mValueError\u001B[39;00m(\u001B[38;5;124m\"\u001B[39m\u001B[38;5;124mNo tables found\u001B[39m\u001B[38;5;124m\"\u001B[39m)\n\u001B[1;32m    620\u001B[0m result \u001B[38;5;241m=\u001B[39m []\n\u001B[1;32m    621\u001B[0m unique_tables \u001B[38;5;241m=\u001B[39m \u001B[38;5;28mset\u001B[39m()\n",
      "\u001B[0;31mValueError\u001B[0m: No tables found"
     ]
    }
   ],
   "source": [
    "import pandas as pd \n",
    "matches = pd.read_html(data.text, match= \"Scores & Fixtures\")"
   ],
   "metadata": {
    "collapsed": false,
    "ExecuteTime": {
     "end_time": "2024-03-24T16:50:59.554027Z",
     "start_time": "2024-03-24T16:50:59.514656Z"
    }
   },
   "id": "69ddc75b35ca1dda",
   "execution_count": 430
  },
  {
   "cell_type": "code",
   "outputs": [],
   "source": [
    "matches[0]"
   ],
   "metadata": {
    "collapsed": false,
    "ExecuteTime": {
     "end_time": "2024-03-24T16:50:59.561409Z",
     "start_time": "2024-03-24T16:50:59.554637Z"
    }
   },
   "id": "599cacce9f45b98d",
   "execution_count": null
  },
  {
   "cell_type": "code",
   "outputs": [],
   "source": [
    "soup = BeautifulSoup(data.text)\n",
    "links = soup.find_all('a')\n",
    "links = [l.get(\"href\") for l in links]\n",
    "links = [ l for l in links if l and 'all_comps/shooting/' in l]"
   ],
   "metadata": {
    "collapsed": false,
    "ExecuteTime": {
     "start_time": "2024-03-24T16:50:59.555568Z"
    }
   },
   "id": "742fb4c1a4332dad",
   "execution_count": null
  },
  {
   "cell_type": "code",
   "outputs": [],
   "source": [
    "data = requests.get(f\"https://fbref.com{links[0]}\")"
   ],
   "metadata": {
    "collapsed": false,
    "ExecuteTime": {
     "start_time": "2024-03-24T16:50:59.556354Z"
    }
   },
   "id": "413f760b29c29e04",
   "execution_count": null
  },
  {
   "cell_type": "code",
   "outputs": [],
   "source": [
    "shooting = pd.read_html(data.text, match= \"Shooting\")[0]"
   ],
   "metadata": {
    "collapsed": false,
    "ExecuteTime": {
     "start_time": "2024-03-24T16:50:59.557043Z"
    }
   },
   "id": "8ec5e980615a337f",
   "execution_count": null
  },
  {
   "cell_type": "code",
   "outputs": [],
   "source": [
    "shooting.head()"
   ],
   "metadata": {
    "collapsed": false,
    "ExecuteTime": {
     "start_time": "2024-03-24T16:50:59.558371Z"
    }
   },
   "id": "73e02724c1c33a1a",
   "execution_count": null
  },
  {
   "cell_type": "code",
   "outputs": [],
   "source": [
    "# Drop 1 index level\n",
    "shooting.columns = shooting.columns.droplevel()"
   ],
   "metadata": {
    "collapsed": false,
    "ExecuteTime": {
     "start_time": "2024-03-24T16:50:59.559111Z"
    }
   },
   "id": "725e1aad3beca5d1",
   "execution_count": null
  },
  {
   "cell_type": "code",
   "outputs": [],
   "source": [
    "shooting.head()"
   ],
   "metadata": {
    "collapsed": false,
    "ExecuteTime": {
     "start_time": "2024-03-24T16:50:59.560226Z"
    }
   },
   "id": "f6b3edc68caaf683",
   "execution_count": null
  },
  {
   "cell_type": "code",
   "outputs": [],
   "source": [
    "team_data = matches[0].merge(shooting[['Date','Sh', \n",
    "                                'SoT','Dist','FK','PK','PKatt']], on = \"Date\")"
   ],
   "metadata": {
    "collapsed": false,
    "ExecuteTime": {
     "start_time": "2024-03-24T16:50:59.561235Z"
    }
   },
   "id": "143c91068660b87c",
   "execution_count": null
  },
  {
   "cell_type": "code",
   "outputs": [],
   "source": [
    "team_data.head()"
   ],
   "metadata": {
    "collapsed": false,
    "ExecuteTime": {
     "end_time": "2024-03-24T16:50:59.563410Z",
     "start_time": "2024-03-24T16:50:59.562256Z"
    }
   },
   "id": "d53500271e8877ed",
   "execution_count": null
  },
  {
   "cell_type": "code",
   "outputs": [],
   "source": [
    "# Scale this method app for all the team\n",
    "years = list(range(2023,2020,-1))"
   ],
   "metadata": {
    "collapsed": false,
    "ExecuteTime": {
     "start_time": "2024-03-24T16:50:59.563102Z"
    }
   },
   "id": "62c014df94003c6e",
   "execution_count": null
  },
  {
   "cell_type": "code",
   "outputs": [],
   "source": [
    "all_matches = []"
   ],
   "metadata": {
    "collapsed": false,
    "ExecuteTime": {
     "end_time": "2024-03-24T16:50:59.563824Z",
     "start_time": "2024-03-24T16:50:59.563771Z"
    }
   },
   "id": "2c54888b5aac18b5",
   "execution_count": null
  },
  {
   "cell_type": "code",
   "outputs": [],
   "source": [
    "standings_url =  \"https://fbref.com/en/comps/9/Premier-League-Stats\""
   ],
   "metadata": {
    "collapsed": false,
    "ExecuteTime": {
     "start_time": "2024-03-24T16:50:59.564306Z"
    }
   },
   "id": "96dafc6dc250c77b",
   "execution_count": null
  },
  {
   "cell_type": "code",
   "outputs": [],
   "source": [
    "from datetime import time\n",
    "import time as sleep_module\n",
    "\n",
    "\n",
    "for year in years:\n",
    "    response = requests.get(standings_url)\n",
    "    if response.status_code == 200:\n",
    "        soup = BeautifulSoup(response.text, 'html.parser')\n",
    "        standing_table = soup.select('table.stats_table')[0]\n",
    "        links = [l.get('href') for l in standing_table.find_all('a') if '/squads/' in l.get('href', '')]\n",
    "        team_urls = [f\"https://fbref.com{l}\" for l in links]\n",
    "        prev_links = soup.select(\"a.button2.prev\")\n",
    "        previous_season = prev_links[0].get('href') if prev_links else None\n",
    "        standings_url = f\"https://fbref.com{previous_season}\" if previous_season else standings_url\n",
    "    else:\n",
    "        print(f\"Failed to get data for year {year}\")\n",
    "        continue\n",
    "\n",
    "    for team_url in team_urls:\n",
    "        team_name = team_url.split(\"/\")[-1].replace(\"-Stats\",\"\").replace(\"-\",\" \")\n",
    "        data = requests.get(team_url)\n",
    "        matches = pd.read_html(data.text,match =\"Scores & Fixtures\")[0]\n",
    "        soup = BeautifulSoup(data.text)\n",
    "        links = [l.get(\"href\") for l in soup.find_all('a')]\n",
    "        links = [ l for l in links if l and 'all_comps/shooting/' in l]\n",
    "        data = requests.get(f\"https://fbref.com{links[0]}\")\n",
    "        # shooting = pd.read_html(data.text, match=\"Shooting\")[0]\n",
    "        # shooting.columns = shooting.columns.droplevel()\n",
    "        # try:\n",
    "        #      team_data = matches.merge(shooting[['Date','Sh', \n",
    "        #                          'SoT','Dist','FK','PK','PKatt']], on = \"Date\")\n",
    "        # except ValueError:\n",
    "        #      continue\n",
    "         \n",
    "        team_data = team_data[team_data[\"Comp\"]==\"Premier League\"]\n",
    "        team_data['Season'] = year\n",
    "        team_data['Team'] = team_name\n",
    "        all_matches.append(team_data)\n",
    "        sleep_module.sleep(10)\n",
    "         \n",
    "   "
   ],
   "metadata": {
    "collapsed": false,
    "ExecuteTime": {
     "end_time": "2024-03-24T16:50:59.572252Z",
     "start_time": "2024-03-24T16:50:59.564795Z"
    }
   },
   "id": "7a0d21f9dcd83133",
   "execution_count": null
  },
  {
   "cell_type": "code",
   "outputs": [],
   "source": [
    "team_url.split(\"/\")[-1].replace(\"-Stats\",\"\").replace(\"-Team\",\"\")"
   ],
   "metadata": {
    "collapsed": false,
    "ExecuteTime": {
     "start_time": "2024-03-24T16:50:59.565368Z"
    }
   },
   "id": "bfe72ce6361060fb",
   "execution_count": null
  },
  {
   "cell_type": "code",
   "outputs": [],
   "source": [
    "match_df = pd.concat(all_matches)"
   ],
   "metadata": {
    "collapsed": false,
    "ExecuteTime": {
     "start_time": "2024-03-24T16:50:59.565879Z"
    }
   },
   "id": "c59655c18236206a",
   "execution_count": null
  },
  {
   "cell_type": "code",
   "outputs": [],
   "source": [
    "match_df.columns = [c.lower() for c in match_df.columns]"
   ],
   "metadata": {
    "collapsed": false,
    "ExecuteTime": {
     "start_time": "2024-03-24T16:50:59.567Z"
    }
   },
   "id": "49c06bbfb96c5bc0"
  },
  {
   "cell_type": "code",
   "outputs": [],
   "source": [
    "match_df.to_csv(\"matches.csv\")"
   ],
   "metadata": {
    "collapsed": false,
    "ExecuteTime": {
     "start_time": "2024-03-24T16:50:59.567032Z"
    }
   },
   "id": "d4caa2d4e2e704c7"
  }
 ],
 "metadata": {
  "kernelspec": {
   "display_name": "Python 3",
   "language": "python",
   "name": "python3"
  },
  "language_info": {
   "codemirror_mode": {
    "name": "ipython",
    "version": 2
   },
   "file_extension": ".py",
   "mimetype": "text/x-python",
   "name": "python",
   "nbconvert_exporter": "python",
   "pygments_lexer": "ipython2",
   "version": "2.7.6"
  }
 },
 "nbformat": 4,
 "nbformat_minor": 5
}
