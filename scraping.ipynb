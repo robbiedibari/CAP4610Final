{
 "cells": [
  {
   "cell_type": "code",
   "execution_count": 20,
   "id": "c6bfd871-93e9-4146-bb46-97b54a7190a2",
   "metadata": {
    "ExecuteTime": {
     "end_time": "2024-03-24T16:48:19.651867Z",
     "start_time": "2024-03-24T16:48:19.647019Z"
    }
   },
   "outputs": [],
   "source": [
    "import requests"
   ]
  },
  {
   "cell_type": "code",
   "execution_count": 21,
   "id": "9cd91fcb-43bd-426a-bea0-8fbf5f0c1aa2",
   "metadata": {
    "ExecuteTime": {
     "end_time": "2024-03-24T16:48:19.660396Z",
     "start_time": "2024-03-24T16:48:19.653042Z"
    }
   },
   "outputs": [],
   "source": [
    "standings_url = \"https://fbref.com/en/comps/9/Premier-League-Stats\""
   ]
  },
  {
   "cell_type": "code",
   "execution_count": 22,
   "id": "bec03d7c-4415-4ff4-953b-dc016c5766e8",
   "metadata": {
    "ExecuteTime": {
     "end_time": "2024-03-24T16:48:19.981733Z",
     "start_time": "2024-03-24T16:48:19.656438Z"
    }
   },
   "outputs": [],
   "source": [
    "data = requests.get(standings_url)"
   ]
  },
  {
   "cell_type": "code",
   "execution_count": 23,
   "id": "14317aec-652f-4a9b-9601-87e1fa33c277",
   "metadata": {
    "ExecuteTime": {
     "end_time": "2024-03-24T16:48:19.987210Z",
     "start_time": "2024-03-24T16:48:19.982095Z"
    }
   },
   "outputs": [],
   "source": [
    "from bs4 import BeautifulSoup"
   ]
  },
  {
   "cell_type": "code",
   "execution_count": 24,
   "id": "8ff6d3f7-2fc0-40c5-98ee-687760f52810",
   "metadata": {
    "ExecuteTime": {
     "end_time": "2024-03-24T16:48:20.322443Z",
     "start_time": "2024-03-24T16:48:20.026976Z"
    }
   },
   "outputs": [],
   "source": [
    "soup = BeautifulSoup(data.text,'html.parser')"
   ]
  },
  {
   "cell_type": "code",
   "outputs": [],
   "source": [
    "soup = BeautifulSoup(data.text, 'html.parser')  # Make sure to use the correct parser\n",
    "standings_table = soup.select('table.stats_table')[0]\n",
    "if standings_table:\n",
    "    links = standings_table.find_all('a')\n",
    "    links = [l.get('href') for l in links]\n",
    "    links = [l for l in links if '/squads/' in l]\n",
    "else:\n",
    "    print(\"Table not found.\")\n"
   ],
   "metadata": {
    "collapsed": false,
    "ExecuteTime": {
     "end_time": "2024-03-24T16:48:20.640751Z",
     "start_time": "2024-03-24T16:48:20.322789Z"
    }
   },
   "id": "4250424260e1c5f9",
   "execution_count": 25
  },
  {
   "cell_type": "code",
   "execution_count": 26,
   "id": "a8f4cef8-4e0c-46ef-92be-8adfe5c9463a",
   "metadata": {
    "ExecuteTime": {
     "end_time": "2024-03-24T16:48:20.646424Z",
     "start_time": "2024-03-24T16:48:20.640418Z"
    }
   },
   "outputs": [],
   "source": [
    "team_urls = [f\"https://fbref.com{l}\" for l in links]"
   ]
  },
  {
   "cell_type": "code",
   "execution_count": 27,
   "id": "b904d6a6-aa6d-4d0f-b42b-71a1a8e17a9c",
   "metadata": {
    "ExecuteTime": {
     "end_time": "2024-03-24T16:48:20.959745Z",
     "start_time": "2024-03-24T16:48:20.643355Z"
    }
   },
   "outputs": [],
   "source": [
    "data = requests.get(team_urls[0])"
   ]
  },
  {
   "cell_type": "code",
   "execution_count": 28,
   "id": "b94ebf7c-e72c-4832-9b04-7bf7999814bb",
   "metadata": {
    "ExecuteTime": {
     "end_time": "2024-03-24T16:48:21.167828Z",
     "start_time": "2024-03-24T16:48:20.962009Z"
    }
   },
   "outputs": [],
   "source": [
    "import pandas as pd\n",
    "matches = pd.read_html(data.text, match=\"Scores & Fixtures\")[0]"
   ]
  },
  {
   "cell_type": "code",
   "execution_count": 29,
   "id": "fa927a12-0362-4a45-8d3c-803c32b8a3e0",
   "metadata": {
    "ExecuteTime": {
     "end_time": "2024-03-24T16:48:21.259077Z",
     "start_time": "2024-03-24T16:48:21.169285Z"
    }
   },
   "outputs": [],
   "source": [
    "soup = BeautifulSoup(data.text)\n",
    "links = soup.find_all('a')\n",
    "links = [l.get(\"href\") for l in links]\n",
    "links = [l for l in links if l and 'all_comps/shooting/' in l]"
   ]
  },
  {
   "cell_type": "code",
   "execution_count": 30,
   "id": "e09af8cb-3533-47f3-b4f8-22f36514eb72",
   "metadata": {
    "ExecuteTime": {
     "end_time": "2024-03-24T16:48:21.505654Z",
     "start_time": "2024-03-24T16:48:21.259437Z"
    }
   },
   "outputs": [],
   "source": [
    "data = requests.get(f\"https://fbref.com{links[0]}\")"
   ]
  },
  {
   "cell_type": "code",
   "execution_count": 31,
   "id": "9ce95cd1-78e2-4411-a956-a74b43078262",
   "metadata": {
    "ExecuteTime": {
     "end_time": "2024-03-24T16:48:21.537148Z",
     "start_time": "2024-03-24T16:48:21.508331Z"
    }
   },
   "outputs": [],
   "source": [
    "shooting = pd.read_html(data.text, match=\"Shooting\")[0]"
   ]
  },
  {
   "cell_type": "code",
   "execution_count": 32,
   "id": "3a442054-0312-4e21-a662-0c8145f848d1",
   "metadata": {
    "ExecuteTime": {
     "end_time": "2024-03-24T16:48:21.549469Z",
     "start_time": "2024-03-24T16:48:21.543613Z"
    }
   },
   "outputs": [
    {
     "data": {
      "text/plain": "  For Arsenal                                                              \\\n         Date   Time              Comp                Round  Day    Venue   \n0  2023-08-06  16:00  Community Shield  FA Community Shield  Sun  Neutral   \n1  2023-08-12  12:30    Premier League          Matchweek 1  Sat     Home   \n2  2023-08-21  20:00    Premier League          Matchweek 2  Mon     Away   \n3  2023-08-26  15:00    Premier League          Matchweek 3  Sat     Home   \n4  2023-09-03  16:30    Premier League          Matchweek 4  Sun     Home   \n\n                                         ... Standard               Expected  \\\n  Result     GF     GA         Opponent  ...     Dist   FK PK PKatt       xG   \n0      D  1 (4)  1 (1)  Manchester City  ...      NaN  NaN  0     0      NaN   \n1      W      2      1  Nott'ham Forest  ...     19.1  0.0  0     0      0.8   \n2      W      1      0   Crystal Palace  ...     16.4  0.0  1     1      2.0   \n3      D      2      2           Fulham  ...     13.8  0.0  1     1      3.2   \n4      W      3      1   Manchester Utd  ...     15.0  0.0  0     0      2.3   \n\n                            Unnamed: 25_level_0  \n  npxG npxG/Sh G-xG np:G-xG        Match Report  \n0  NaN     NaN  NaN     NaN        Match Report  \n1  0.8    0.06  1.2     1.2        Match Report  \n2  1.2    0.09 -1.0    -1.2        Match Report  \n3  2.4    0.14 -1.2    -1.4        Match Report  \n4  2.3    0.13  0.7     0.7        Match Report  \n\n[5 rows x 26 columns]",
      "text/html": "<div>\n<style scoped>\n    .dataframe tbody tr th:only-of-type {\n        vertical-align: middle;\n    }\n\n    .dataframe tbody tr th {\n        vertical-align: top;\n    }\n\n    .dataframe thead tr th {\n        text-align: left;\n    }\n</style>\n<table border=\"1\" class=\"dataframe\">\n  <thead>\n    <tr>\n      <th></th>\n      <th colspan=\"10\" halign=\"left\">For Arsenal</th>\n      <th>...</th>\n      <th colspan=\"4\" halign=\"left\">Standard</th>\n      <th colspan=\"5\" halign=\"left\">Expected</th>\n      <th>Unnamed: 25_level_0</th>\n    </tr>\n    <tr>\n      <th></th>\n      <th>Date</th>\n      <th>Time</th>\n      <th>Comp</th>\n      <th>Round</th>\n      <th>Day</th>\n      <th>Venue</th>\n      <th>Result</th>\n      <th>GF</th>\n      <th>GA</th>\n      <th>Opponent</th>\n      <th>...</th>\n      <th>Dist</th>\n      <th>FK</th>\n      <th>PK</th>\n      <th>PKatt</th>\n      <th>xG</th>\n      <th>npxG</th>\n      <th>npxG/Sh</th>\n      <th>G-xG</th>\n      <th>np:G-xG</th>\n      <th>Match Report</th>\n    </tr>\n  </thead>\n  <tbody>\n    <tr>\n      <th>0</th>\n      <td>2023-08-06</td>\n      <td>16:00</td>\n      <td>Community Shield</td>\n      <td>FA Community Shield</td>\n      <td>Sun</td>\n      <td>Neutral</td>\n      <td>D</td>\n      <td>1 (4)</td>\n      <td>1 (1)</td>\n      <td>Manchester City</td>\n      <td>...</td>\n      <td>NaN</td>\n      <td>NaN</td>\n      <td>0</td>\n      <td>0</td>\n      <td>NaN</td>\n      <td>NaN</td>\n      <td>NaN</td>\n      <td>NaN</td>\n      <td>NaN</td>\n      <td>Match Report</td>\n    </tr>\n    <tr>\n      <th>1</th>\n      <td>2023-08-12</td>\n      <td>12:30</td>\n      <td>Premier League</td>\n      <td>Matchweek 1</td>\n      <td>Sat</td>\n      <td>Home</td>\n      <td>W</td>\n      <td>2</td>\n      <td>1</td>\n      <td>Nott'ham Forest</td>\n      <td>...</td>\n      <td>19.1</td>\n      <td>0.0</td>\n      <td>0</td>\n      <td>0</td>\n      <td>0.8</td>\n      <td>0.8</td>\n      <td>0.06</td>\n      <td>1.2</td>\n      <td>1.2</td>\n      <td>Match Report</td>\n    </tr>\n    <tr>\n      <th>2</th>\n      <td>2023-08-21</td>\n      <td>20:00</td>\n      <td>Premier League</td>\n      <td>Matchweek 2</td>\n      <td>Mon</td>\n      <td>Away</td>\n      <td>W</td>\n      <td>1</td>\n      <td>0</td>\n      <td>Crystal Palace</td>\n      <td>...</td>\n      <td>16.4</td>\n      <td>0.0</td>\n      <td>1</td>\n      <td>1</td>\n      <td>2.0</td>\n      <td>1.2</td>\n      <td>0.09</td>\n      <td>-1.0</td>\n      <td>-1.2</td>\n      <td>Match Report</td>\n    </tr>\n    <tr>\n      <th>3</th>\n      <td>2023-08-26</td>\n      <td>15:00</td>\n      <td>Premier League</td>\n      <td>Matchweek 3</td>\n      <td>Sat</td>\n      <td>Home</td>\n      <td>D</td>\n      <td>2</td>\n      <td>2</td>\n      <td>Fulham</td>\n      <td>...</td>\n      <td>13.8</td>\n      <td>0.0</td>\n      <td>1</td>\n      <td>1</td>\n      <td>3.2</td>\n      <td>2.4</td>\n      <td>0.14</td>\n      <td>-1.2</td>\n      <td>-1.4</td>\n      <td>Match Report</td>\n    </tr>\n    <tr>\n      <th>4</th>\n      <td>2023-09-03</td>\n      <td>16:30</td>\n      <td>Premier League</td>\n      <td>Matchweek 4</td>\n      <td>Sun</td>\n      <td>Home</td>\n      <td>W</td>\n      <td>3</td>\n      <td>1</td>\n      <td>Manchester Utd</td>\n      <td>...</td>\n      <td>15.0</td>\n      <td>0.0</td>\n      <td>0</td>\n      <td>0</td>\n      <td>2.3</td>\n      <td>2.3</td>\n      <td>0.13</td>\n      <td>0.7</td>\n      <td>0.7</td>\n      <td>Match Report</td>\n    </tr>\n  </tbody>\n</table>\n<p>5 rows × 26 columns</p>\n</div>"
     },
     "execution_count": 32,
     "metadata": {},
     "output_type": "execute_result"
    }
   ],
   "source": [
    "shooting.head()"
   ]
  },
  {
   "cell_type": "code",
   "execution_count": 33,
   "id": "0b024f3a-a0b3-4b53-8dbd-b5649f1326ac",
   "metadata": {
    "ExecuteTime": {
     "end_time": "2024-03-24T16:48:21.549891Z",
     "start_time": "2024-03-24T16:48:21.545946Z"
    }
   },
   "outputs": [],
   "source": [
    "shooting.columns = shooting.columns.droplevel()"
   ]
  },
  {
   "cell_type": "code",
   "execution_count": 34,
   "id": "ccac08ea-724c-4ea4-b4cb-615de33e167a",
   "metadata": {
    "ExecuteTime": {
     "end_time": "2024-03-24T16:48:21.551099Z",
     "start_time": "2024-03-24T16:48:21.549365Z"
    }
   },
   "outputs": [],
   "source": [
    "team_data = matches.merge(shooting[[\"Date\", \"Sh\", \"SoT\", \"Dist\", \"FK\", \"PK\", \"PKatt\"]], on=\"Date\")"
   ]
  },
  {
   "cell_type": "code",
   "execution_count": 35,
   "id": "cb16fa23-bf93-40fc-a479-f9ae4114f2ac",
   "metadata": {
    "ExecuteTime": {
     "end_time": "2024-03-24T16:48:21.558098Z",
     "start_time": "2024-03-24T16:48:21.555479Z"
    }
   },
   "outputs": [
    {
     "data": {
      "text/plain": "         Date   Time              Comp                Round  Day    Venue  \\\n0  2023-08-06  16:00  Community Shield  FA Community Shield  Sun  Neutral   \n1  2023-08-12  12:30    Premier League          Matchweek 1  Sat     Home   \n2  2023-08-21  20:00    Premier League          Matchweek 2  Mon     Away   \n3  2023-08-26  15:00    Premier League          Matchweek 3  Sat     Home   \n4  2023-09-03  16:30    Premier League          Matchweek 4  Sun     Home   \n\n  Result     GF     GA         Opponent  ...  Formation         Referee  \\\n0      D  1 (4)  1 (1)  Manchester City  ...      4-3-3  Stuart Attwell   \n1      W      2      1  Nott'ham Forest  ...      4-3-3  Michael Oliver   \n2      W      1      0   Crystal Palace  ...      4-3-3     David Coote   \n3      D      2      2           Fulham  ...      4-3-3    Paul Tierney   \n4      W      3      1   Manchester Utd  ...      4-3-3  Anthony Taylor   \n\n   Match Report                                              Notes  Sh SoT  \\\n0  Match Report  Arsenal won on penalty kicks following normal ...   7   3   \n1  Match Report                                                NaN  15   7   \n2  Match Report                                                NaN  13   2   \n3  Match Report                                                NaN  18   9   \n4  Match Report                                                NaN  17   5   \n\n   Dist   FK PK  PKatt  \n0   NaN  NaN  0      0  \n1  19.1  0.0  0      0  \n2  16.4  0.0  1      1  \n3  13.8  0.0  1      1  \n4  15.0  0.0  0      0  \n\n[5 rows x 25 columns]",
      "text/html": "<div>\n<style scoped>\n    .dataframe tbody tr th:only-of-type {\n        vertical-align: middle;\n    }\n\n    .dataframe tbody tr th {\n        vertical-align: top;\n    }\n\n    .dataframe thead th {\n        text-align: right;\n    }\n</style>\n<table border=\"1\" class=\"dataframe\">\n  <thead>\n    <tr style=\"text-align: right;\">\n      <th></th>\n      <th>Date</th>\n      <th>Time</th>\n      <th>Comp</th>\n      <th>Round</th>\n      <th>Day</th>\n      <th>Venue</th>\n      <th>Result</th>\n      <th>GF</th>\n      <th>GA</th>\n      <th>Opponent</th>\n      <th>...</th>\n      <th>Formation</th>\n      <th>Referee</th>\n      <th>Match Report</th>\n      <th>Notes</th>\n      <th>Sh</th>\n      <th>SoT</th>\n      <th>Dist</th>\n      <th>FK</th>\n      <th>PK</th>\n      <th>PKatt</th>\n    </tr>\n  </thead>\n  <tbody>\n    <tr>\n      <th>0</th>\n      <td>2023-08-06</td>\n      <td>16:00</td>\n      <td>Community Shield</td>\n      <td>FA Community Shield</td>\n      <td>Sun</td>\n      <td>Neutral</td>\n      <td>D</td>\n      <td>1 (4)</td>\n      <td>1 (1)</td>\n      <td>Manchester City</td>\n      <td>...</td>\n      <td>4-3-3</td>\n      <td>Stuart Attwell</td>\n      <td>Match Report</td>\n      <td>Arsenal won on penalty kicks following normal ...</td>\n      <td>7</td>\n      <td>3</td>\n      <td>NaN</td>\n      <td>NaN</td>\n      <td>0</td>\n      <td>0</td>\n    </tr>\n    <tr>\n      <th>1</th>\n      <td>2023-08-12</td>\n      <td>12:30</td>\n      <td>Premier League</td>\n      <td>Matchweek 1</td>\n      <td>Sat</td>\n      <td>Home</td>\n      <td>W</td>\n      <td>2</td>\n      <td>1</td>\n      <td>Nott'ham Forest</td>\n      <td>...</td>\n      <td>4-3-3</td>\n      <td>Michael Oliver</td>\n      <td>Match Report</td>\n      <td>NaN</td>\n      <td>15</td>\n      <td>7</td>\n      <td>19.1</td>\n      <td>0.0</td>\n      <td>0</td>\n      <td>0</td>\n    </tr>\n    <tr>\n      <th>2</th>\n      <td>2023-08-21</td>\n      <td>20:00</td>\n      <td>Premier League</td>\n      <td>Matchweek 2</td>\n      <td>Mon</td>\n      <td>Away</td>\n      <td>W</td>\n      <td>1</td>\n      <td>0</td>\n      <td>Crystal Palace</td>\n      <td>...</td>\n      <td>4-3-3</td>\n      <td>David Coote</td>\n      <td>Match Report</td>\n      <td>NaN</td>\n      <td>13</td>\n      <td>2</td>\n      <td>16.4</td>\n      <td>0.0</td>\n      <td>1</td>\n      <td>1</td>\n    </tr>\n    <tr>\n      <th>3</th>\n      <td>2023-08-26</td>\n      <td>15:00</td>\n      <td>Premier League</td>\n      <td>Matchweek 3</td>\n      <td>Sat</td>\n      <td>Home</td>\n      <td>D</td>\n      <td>2</td>\n      <td>2</td>\n      <td>Fulham</td>\n      <td>...</td>\n      <td>4-3-3</td>\n      <td>Paul Tierney</td>\n      <td>Match Report</td>\n      <td>NaN</td>\n      <td>18</td>\n      <td>9</td>\n      <td>13.8</td>\n      <td>0.0</td>\n      <td>1</td>\n      <td>1</td>\n    </tr>\n    <tr>\n      <th>4</th>\n      <td>2023-09-03</td>\n      <td>16:30</td>\n      <td>Premier League</td>\n      <td>Matchweek 4</td>\n      <td>Sun</td>\n      <td>Home</td>\n      <td>W</td>\n      <td>3</td>\n      <td>1</td>\n      <td>Manchester Utd</td>\n      <td>...</td>\n      <td>4-3-3</td>\n      <td>Anthony Taylor</td>\n      <td>Match Report</td>\n      <td>NaN</td>\n      <td>17</td>\n      <td>5</td>\n      <td>15.0</td>\n      <td>0.0</td>\n      <td>0</td>\n      <td>0</td>\n    </tr>\n  </tbody>\n</table>\n<p>5 rows × 25 columns</p>\n</div>"
     },
     "execution_count": 35,
     "metadata": {},
     "output_type": "execute_result"
    }
   ],
   "source": [
    "team_data.head()"
   ]
  },
  {
   "cell_type": "code",
   "execution_count": 36,
   "id": "0515b73f-3fc4-4514-b66b-4ba68dbfa1fc",
   "metadata": {
    "ExecuteTime": {
     "end_time": "2024-03-24T16:48:21.564499Z",
     "start_time": "2024-03-24T16:48:21.558296Z"
    }
   },
   "outputs": [],
   "source": [
    "years = list(range(2022, 2020, -1))\n",
    "all_matches = []"
   ]
  },
  {
   "cell_type": "code",
   "execution_count": 37,
   "id": "8e0a4db9-54f0-48eb-a76f-5727f6404f14",
   "metadata": {
    "ExecuteTime": {
     "end_time": "2024-03-24T16:48:21.574325Z",
     "start_time": "2024-03-24T16:48:21.560246Z"
    }
   },
   "outputs": [],
   "source": [
    "standings_url = \"https://fbref.com/en/comps/9/Premier-League-Stats\" # Starting URL "
   ]
  },
  {
   "cell_type": "code",
   "execution_count": 38,
   "id": "ff072127-6a65-4b3e-933d-e84b92bf120c",
   "metadata": {
    "ExecuteTime": {
     "end_time": "2024-03-24T16:48:44.826170Z",
     "start_time": "2024-03-24T16:48:21.564360Z"
    }
   },
   "outputs": [
    {
     "ename": "ValueError",
     "evalue": "No tables found",
     "output_type": "error",
     "traceback": [
      "\u001B[0;31m---------------------------------------------------------------------------\u001B[0m",
      "\u001B[0;31mValueError\u001B[0m                                Traceback (most recent call last)",
      "Cell \u001B[0;32mIn[38], line 16\u001B[0m\n\u001B[1;32m     14\u001B[0m team_name \u001B[38;5;241m=\u001B[39m team_url\u001B[38;5;241m.\u001B[39msplit(\u001B[38;5;124m\"\u001B[39m\u001B[38;5;124m/\u001B[39m\u001B[38;5;124m\"\u001B[39m)[\u001B[38;5;241m-\u001B[39m\u001B[38;5;241m1\u001B[39m]\u001B[38;5;241m.\u001B[39mreplace(\u001B[38;5;124m\"\u001B[39m\u001B[38;5;124m-Stats\u001B[39m\u001B[38;5;124m\"\u001B[39m, \u001B[38;5;124m\"\u001B[39m\u001B[38;5;124m\"\u001B[39m)\u001B[38;5;241m.\u001B[39mreplace(\u001B[38;5;124m\"\u001B[39m\u001B[38;5;124m-\u001B[39m\u001B[38;5;124m\"\u001B[39m, \u001B[38;5;124m\"\u001B[39m\u001B[38;5;124m \u001B[39m\u001B[38;5;124m\"\u001B[39m)\n\u001B[1;32m     15\u001B[0m data \u001B[38;5;241m=\u001B[39m requests\u001B[38;5;241m.\u001B[39mget(team_url)\n\u001B[0;32m---> 16\u001B[0m matches \u001B[38;5;241m=\u001B[39m pd\u001B[38;5;241m.\u001B[39mread_html(data\u001B[38;5;241m.\u001B[39mtext, match\u001B[38;5;241m=\u001B[39m\u001B[38;5;124m\"\u001B[39m\u001B[38;5;124mScores & Fixtures\u001B[39m\u001B[38;5;124m\"\u001B[39m)[\u001B[38;5;241m0\u001B[39m]\n\u001B[1;32m     17\u001B[0m soup \u001B[38;5;241m=\u001B[39m BeautifulSoup(data\u001B[38;5;241m.\u001B[39mtext)\n\u001B[1;32m     18\u001B[0m links \u001B[38;5;241m=\u001B[39m [l\u001B[38;5;241m.\u001B[39mget(\u001B[38;5;124m\"\u001B[39m\u001B[38;5;124mhref\u001B[39m\u001B[38;5;124m\"\u001B[39m) \u001B[38;5;28;01mfor\u001B[39;00m l \u001B[38;5;129;01min\u001B[39;00m soup\u001B[38;5;241m.\u001B[39mfind_all(\u001B[38;5;124m'\u001B[39m\u001B[38;5;124ma\u001B[39m\u001B[38;5;124m'\u001B[39m)]\n",
      "File \u001B[0;32m~/anaconda3/lib/python3.11/site-packages/pandas/util/_decorators.py:331\u001B[0m, in \u001B[0;36mdeprecate_nonkeyword_arguments.<locals>.decorate.<locals>.wrapper\u001B[0;34m(*args, **kwargs)\u001B[0m\n\u001B[1;32m    325\u001B[0m \u001B[38;5;28;01mif\u001B[39;00m \u001B[38;5;28mlen\u001B[39m(args) \u001B[38;5;241m>\u001B[39m num_allow_args:\n\u001B[1;32m    326\u001B[0m     warnings\u001B[38;5;241m.\u001B[39mwarn(\n\u001B[1;32m    327\u001B[0m         msg\u001B[38;5;241m.\u001B[39mformat(arguments\u001B[38;5;241m=\u001B[39m_format_argument_list(allow_args)),\n\u001B[1;32m    328\u001B[0m         \u001B[38;5;167;01mFutureWarning\u001B[39;00m,\n\u001B[1;32m    329\u001B[0m         stacklevel\u001B[38;5;241m=\u001B[39mfind_stack_level(),\n\u001B[1;32m    330\u001B[0m     )\n\u001B[0;32m--> 331\u001B[0m \u001B[38;5;28;01mreturn\u001B[39;00m func(\u001B[38;5;241m*\u001B[39margs, \u001B[38;5;241m*\u001B[39m\u001B[38;5;241m*\u001B[39mkwargs)\n",
      "File \u001B[0;32m~/anaconda3/lib/python3.11/site-packages/pandas/io/html.py:1205\u001B[0m, in \u001B[0;36mread_html\u001B[0;34m(io, match, flavor, header, index_col, skiprows, attrs, parse_dates, thousands, encoding, decimal, converters, na_values, keep_default_na, displayed_only, extract_links)\u001B[0m\n\u001B[1;32m   1201\u001B[0m validate_header_arg(header)\n\u001B[1;32m   1203\u001B[0m io \u001B[38;5;241m=\u001B[39m stringify_path(io)\n\u001B[0;32m-> 1205\u001B[0m \u001B[38;5;28;01mreturn\u001B[39;00m _parse(\n\u001B[1;32m   1206\u001B[0m     flavor\u001B[38;5;241m=\u001B[39mflavor,\n\u001B[1;32m   1207\u001B[0m     io\u001B[38;5;241m=\u001B[39mio,\n\u001B[1;32m   1208\u001B[0m     match\u001B[38;5;241m=\u001B[39mmatch,\n\u001B[1;32m   1209\u001B[0m     header\u001B[38;5;241m=\u001B[39mheader,\n\u001B[1;32m   1210\u001B[0m     index_col\u001B[38;5;241m=\u001B[39mindex_col,\n\u001B[1;32m   1211\u001B[0m     skiprows\u001B[38;5;241m=\u001B[39mskiprows,\n\u001B[1;32m   1212\u001B[0m     parse_dates\u001B[38;5;241m=\u001B[39mparse_dates,\n\u001B[1;32m   1213\u001B[0m     thousands\u001B[38;5;241m=\u001B[39mthousands,\n\u001B[1;32m   1214\u001B[0m     attrs\u001B[38;5;241m=\u001B[39mattrs,\n\u001B[1;32m   1215\u001B[0m     encoding\u001B[38;5;241m=\u001B[39mencoding,\n\u001B[1;32m   1216\u001B[0m     decimal\u001B[38;5;241m=\u001B[39mdecimal,\n\u001B[1;32m   1217\u001B[0m     converters\u001B[38;5;241m=\u001B[39mconverters,\n\u001B[1;32m   1218\u001B[0m     na_values\u001B[38;5;241m=\u001B[39mna_values,\n\u001B[1;32m   1219\u001B[0m     keep_default_na\u001B[38;5;241m=\u001B[39mkeep_default_na,\n\u001B[1;32m   1220\u001B[0m     displayed_only\u001B[38;5;241m=\u001B[39mdisplayed_only,\n\u001B[1;32m   1221\u001B[0m     extract_links\u001B[38;5;241m=\u001B[39mextract_links,\n\u001B[1;32m   1222\u001B[0m )\n",
      "File \u001B[0;32m~/anaconda3/lib/python3.11/site-packages/pandas/io/html.py:1006\u001B[0m, in \u001B[0;36m_parse\u001B[0;34m(flavor, io, match, attrs, encoding, displayed_only, extract_links, **kwargs)\u001B[0m\n\u001B[1;32m   1004\u001B[0m \u001B[38;5;28;01melse\u001B[39;00m:\n\u001B[1;32m   1005\u001B[0m     \u001B[38;5;28;01massert\u001B[39;00m retained \u001B[38;5;129;01mis\u001B[39;00m \u001B[38;5;129;01mnot\u001B[39;00m \u001B[38;5;28;01mNone\u001B[39;00m  \u001B[38;5;66;03m# for mypy\u001B[39;00m\n\u001B[0;32m-> 1006\u001B[0m     \u001B[38;5;28;01mraise\u001B[39;00m retained\n\u001B[1;32m   1008\u001B[0m ret \u001B[38;5;241m=\u001B[39m []\n\u001B[1;32m   1009\u001B[0m \u001B[38;5;28;01mfor\u001B[39;00m table \u001B[38;5;129;01min\u001B[39;00m tables:\n",
      "File \u001B[0;32m~/anaconda3/lib/python3.11/site-packages/pandas/io/html.py:986\u001B[0m, in \u001B[0;36m_parse\u001B[0;34m(flavor, io, match, attrs, encoding, displayed_only, extract_links, **kwargs)\u001B[0m\n\u001B[1;32m    983\u001B[0m p \u001B[38;5;241m=\u001B[39m parser(io, compiled_match, attrs, encoding, displayed_only, extract_links)\n\u001B[1;32m    985\u001B[0m \u001B[38;5;28;01mtry\u001B[39;00m:\n\u001B[0;32m--> 986\u001B[0m     tables \u001B[38;5;241m=\u001B[39m p\u001B[38;5;241m.\u001B[39mparse_tables()\n\u001B[1;32m    987\u001B[0m \u001B[38;5;28;01mexcept\u001B[39;00m \u001B[38;5;167;01mValueError\u001B[39;00m \u001B[38;5;28;01mas\u001B[39;00m caught:\n\u001B[1;32m    988\u001B[0m     \u001B[38;5;66;03m# if `io` is an io-like object, check if it's seekable\u001B[39;00m\n\u001B[1;32m    989\u001B[0m     \u001B[38;5;66;03m# and try to rewind it before trying the next parser\u001B[39;00m\n\u001B[1;32m    990\u001B[0m     \u001B[38;5;28;01mif\u001B[39;00m \u001B[38;5;28mhasattr\u001B[39m(io, \u001B[38;5;124m\"\u001B[39m\u001B[38;5;124mseekable\u001B[39m\u001B[38;5;124m\"\u001B[39m) \u001B[38;5;129;01mand\u001B[39;00m io\u001B[38;5;241m.\u001B[39mseekable():\n",
      "File \u001B[0;32m~/anaconda3/lib/python3.11/site-packages/pandas/io/html.py:262\u001B[0m, in \u001B[0;36m_HtmlFrameParser.parse_tables\u001B[0;34m(self)\u001B[0m\n\u001B[1;32m    254\u001B[0m \u001B[38;5;28;01mdef\u001B[39;00m \u001B[38;5;21mparse_tables\u001B[39m(\u001B[38;5;28mself\u001B[39m):\n\u001B[1;32m    255\u001B[0m \u001B[38;5;250m    \u001B[39m\u001B[38;5;124;03m\"\"\"\u001B[39;00m\n\u001B[1;32m    256\u001B[0m \u001B[38;5;124;03m    Parse and return all tables from the DOM.\u001B[39;00m\n\u001B[1;32m    257\u001B[0m \n\u001B[0;32m   (...)\u001B[0m\n\u001B[1;32m    260\u001B[0m \u001B[38;5;124;03m    list of parsed (header, body, footer) tuples from tables.\u001B[39;00m\n\u001B[1;32m    261\u001B[0m \u001B[38;5;124;03m    \"\"\"\u001B[39;00m\n\u001B[0;32m--> 262\u001B[0m     tables \u001B[38;5;241m=\u001B[39m \u001B[38;5;28mself\u001B[39m\u001B[38;5;241m.\u001B[39m_parse_tables(\u001B[38;5;28mself\u001B[39m\u001B[38;5;241m.\u001B[39m_build_doc(), \u001B[38;5;28mself\u001B[39m\u001B[38;5;241m.\u001B[39mmatch, \u001B[38;5;28mself\u001B[39m\u001B[38;5;241m.\u001B[39mattrs)\n\u001B[1;32m    263\u001B[0m     \u001B[38;5;28;01mreturn\u001B[39;00m (\u001B[38;5;28mself\u001B[39m\u001B[38;5;241m.\u001B[39m_parse_thead_tbody_tfoot(table) \u001B[38;5;28;01mfor\u001B[39;00m table \u001B[38;5;129;01min\u001B[39;00m tables)\n",
      "File \u001B[0;32m~/anaconda3/lib/python3.11/site-packages/pandas/io/html.py:618\u001B[0m, in \u001B[0;36m_BeautifulSoupHtml5LibFrameParser._parse_tables\u001B[0;34m(self, doc, match, attrs)\u001B[0m\n\u001B[1;32m    615\u001B[0m tables \u001B[38;5;241m=\u001B[39m doc\u001B[38;5;241m.\u001B[39mfind_all(element_name, attrs\u001B[38;5;241m=\u001B[39mattrs)\n\u001B[1;32m    617\u001B[0m \u001B[38;5;28;01mif\u001B[39;00m \u001B[38;5;129;01mnot\u001B[39;00m tables:\n\u001B[0;32m--> 618\u001B[0m     \u001B[38;5;28;01mraise\u001B[39;00m \u001B[38;5;167;01mValueError\u001B[39;00m(\u001B[38;5;124m\"\u001B[39m\u001B[38;5;124mNo tables found\u001B[39m\u001B[38;5;124m\"\u001B[39m)\n\u001B[1;32m    620\u001B[0m result \u001B[38;5;241m=\u001B[39m []\n\u001B[1;32m    621\u001B[0m unique_tables \u001B[38;5;241m=\u001B[39m \u001B[38;5;28mset\u001B[39m()\n",
      "\u001B[0;31mValueError\u001B[0m: No tables found"
     ]
    }
   ],
   "source": [
    "import time\n",
    "for year in years:\n",
    "    data = requests.get(standings_url)\n",
    "    soup = BeautifulSoup(data.text)\n",
    "    standings_table = soup.select('table.stats_table')[0]\n",
    "    links = [l.get(\"href\") for l in standings_table.find_all('a')]\n",
    "    links = [l for l in links if '/squads/' in l]\n",
    "    team_urls = [f\"https://fbref.com{l}\" for l in links]\n",
    "    \n",
    "    previous_season = soup.select(\"a.prev\")[0].get(\"href\")\n",
    "    standings_url = f\"https://fbref.com{previous_season}\"\n",
    "    \n",
    "    for team_url in team_urls:\n",
    "        team_name = team_url.split(\"/\")[-1].replace(\"-Stats\", \"\").replace(\"-\", \" \")\n",
    "        data = requests.get(team_url)\n",
    "        matches = pd.read_html(data.text, match=\"Scores & Fixtures\")[0]\n",
    "        soup = BeautifulSoup(data.text)\n",
    "        links = [l.get(\"href\") for l in soup.find_all('a')]\n",
    "        links = [l for l in links if l and 'all_comps/shooting/' in l]\n",
    "        data = requests.get(f\"https://fbref.com{links[0]}\")\n",
    "        shooting = pd.read_html(data.text, match=\"Shooting\")[0]\n",
    "        shooting.columns = shooting.columns.droplevel()\n",
    "        try:\n",
    "            team_data = matches.merge(shooting[[\"Date\", \"Sh\", \"SoT\", \"Dist\", \"FK\", \"PK\", \"PKatt\"]], on=\"Date\")\n",
    "        except ValueError:\n",
    "            continue\n",
    "        team_data = team_data[team_data[\"Comp\"] == \"Premier League\"]\n",
    "        \n",
    "        team_data[\"Season\"] = year\n",
    "        team_data[\"Team\"] = team_name\n",
    "        all_matches.append(team_data)\n",
    "        time.sleep(1)"
   ]
  },
  {
   "cell_type": "code",
   "execution_count": null,
   "id": "d64c2086-7aeb-45f4-a3c5-4f723eda98e9",
   "metadata": {
    "ExecuteTime": {
     "start_time": "2024-03-24T16:48:44.821588Z"
    }
   },
   "outputs": [],
   "source": [
    "len(all_matches)"
   ]
  },
  {
   "cell_type": "code",
   "execution_count": null,
   "id": "5e43f577-f96a-49d3-8c28-3933617ef207",
   "metadata": {
    "ExecuteTime": {
     "start_time": "2024-03-24T16:48:44.822655Z"
    }
   },
   "outputs": [],
   "source": [
    "match_df = pd.concat(all_matches)"
   ]
  },
  {
   "cell_type": "code",
   "execution_count": null,
   "id": "68c50681-09db-4ff0-b7c6-9b36dd648442",
   "metadata": {
    "ExecuteTime": {
     "start_time": "2024-03-24T16:48:44.823779Z"
    }
   },
   "outputs": [],
   "source": [
    "match_df.columns = [c.lower() for c in match_df.columns]"
   ]
  },
  {
   "cell_type": "code",
   "execution_count": null,
   "id": "0915fcdf-6cdf-4acf-8ed4-5a847d95e229",
   "metadata": {
    "ExecuteTime": {
     "start_time": "2024-03-24T16:48:44.824895Z"
    }
   },
   "outputs": [],
   "source": [
    "match_df"
   ]
  },
  {
   "cell_type": "code",
   "execution_count": null,
   "id": "fbf6c104-708f-4a9f-80fe-3e3085263a09",
   "metadata": {
    "ExecuteTime": {
     "start_time": "2024-03-24T16:48:44.825657Z"
    }
   },
   "outputs": [],
   "source": [
    "match_df.to_csv(\"matches.csv\")"
   ]
  }
 ],
 "metadata": {
  "kernelspec": {
   "display_name": "Python 3 (ipykernel)",
   "language": "python",
   "name": "python3"
  },
  "language_info": {
   "codemirror_mode": {
    "name": "ipython",
    "version": 3
   },
   "file_extension": ".py",
   "mimetype": "text/x-python",
   "name": "python",
   "nbconvert_exporter": "python",
   "pygments_lexer": "ipython3",
   "version": "3.9.12"
  }
 },
 "nbformat": 4,
 "nbformat_minor": 5
}
